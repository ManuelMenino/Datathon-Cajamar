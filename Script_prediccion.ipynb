{
  "nbformat": 4,
  "nbformat_minor": 0,
  "metadata": {
    "colab": {
      "name": "Script prediccion.ipynb",
      "provenance": [],
      "collapsed_sections": [
        "fK_TEplpnsEq",
        "nlc_SvoIcX5l",
        "YsmMMHr-0sKm",
        "5ZARxytN3Xhu",
        "yKyis1QzYoLc",
        "iuqUgLVHnnvW",
        "vaSqx-TQn2iL",
        "xIolS0tjoPuw",
        "U6m1DLcFUvp9",
        "SCsYD7PQt_2q",
        "zxb5C86CQMGF",
        "MYOzhO8XzxPq",
        "Z26pHY0-5ZmJ",
        "O0boRdDOR5fi",
        "I1jSyoCDUWia",
        "uf7c2yvC-Len",
        "ARcHd8iW5nmO",
        "6nan4cyp_es6",
        "dvCGCFMUBYtb",
        "y1uCzzsFFM57",
        "BmduByWP9Lt2"
      ]
    },
    "kernelspec": {
      "name": "python3",
      "display_name": "Python 3"
    }
  },
  "cells": [
    {
      "cell_type": "markdown",
      "metadata": {
        "id": "IZ-VZm1QFKns"
      },
      "source": [
        "**Script de Predicción para el reto de predicción Atmira Cajamar.**"
      ]
    },
    {
      "cell_type": "markdown",
      "metadata": {
        "id": "epJXqODPExfU"
      },
      "source": [
        "Realizado por el equipo: **Los Forecasters**\r\n",
        "\r\n",
        "*   Eduardo Hugues Gudiño\r\n",
        "*   Gustavo Adolfo Martínez Pérez\r\n",
        "*   Manuel Meniño Magán\r\n"
      ]
    },
    {
      "cell_type": "markdown",
      "metadata": {
        "id": "Ubd_YbdPw8Rh"
      },
      "source": [
        "Contiene el proceso de carga de los datos, limpieza, transformación, modelado, validación predicción."
      ]
    },
    {
      "cell_type": "markdown",
      "metadata": {
        "id": "gZ8k1k6McQ-_"
      },
      "source": [
        "*Realizado con Google Colab*"
      ]
    },
    {
      "cell_type": "markdown",
      "metadata": {
        "id": "fK_TEplpnsEq"
      },
      "source": [
        "\r\n",
        "#Instalar y cargar librerias"
      ]
    },
    {
      "cell_type": "code",
      "metadata": {
        "id": "mXqtvj53irpQ",
        "colab": {
          "base_uri": "https://localhost:8080/"
        },
        "outputId": "c6714673-2e95-40b7-93d2-e1ac5e7f7036"
      },
      "source": [
        "import pandas as pd\n",
        "import numpy as np\n",
        "import matplotlib.pyplot as plt\n",
        "import seaborn as sns\n",
        "import datetime\n",
        "from google.colab import files\n",
        "from google.colab import drive\n",
        "from statsmodels.tsa.seasonal import seasonal_decompose\n",
        "import statistics as stats\n",
        "import time\n",
        "import sklearn.metrics as metrics\n",
        "from sklearn.metrics import mean_squared_error\n",
        "from sklearn.preprocessing import LabelEncoder\n",
        "import lightgbm as lgb\n",
        "from lightgbm import LGBMRegressor\n",
        "from itertools import cycle\n",
        "pd.set_option('max_columns', 50)\n",
        "plt.style.use('bmh')\n",
        "color_pal = plt.rcParams['axes.prop_cycle'].by_key()['color']\n",
        "color_cycle = cycle(plt.rcParams['axes.prop_cycle'].by_key()['color'])"
      ],
      "execution_count": 2,
      "outputs": [
        {
          "output_type": "stream",
          "text": [
            "/usr/local/lib/python3.7/dist-packages/statsmodels/tools/_testing.py:19: FutureWarning: pandas.util.testing is deprecated. Use the functions in the public API at pandas.testing instead.\n",
            "  import pandas.util.testing as tm\n"
          ],
          "name": "stderr"
        }
      ]
    },
    {
      "cell_type": "markdown",
      "metadata": {
        "id": "nlc_SvoIcX5l"
      },
      "source": [
        "#Carga de datos: Modelar y Estimar"
      ]
    },
    {
      "cell_type": "markdown",
      "metadata": {
        "id": "YsmMMHr-0sKm"
      },
      "source": [
        "###Desde cuaderno PC (Jupyter)"
      ]
    },
    {
      "cell_type": "markdown",
      "metadata": {
        "id": "TFp5fcED00qW"
      },
      "source": [
        "Indicar directorio de trabajo"
      ]
    },
    {
      "cell_type": "code",
      "metadata": {
        "id": "FKhgFyc91qlU"
      },
      "source": [
        "#Cambiar al directorio de trabajo donde tengamos los datesets\r\n",
        "path = './data/'"
      ],
      "execution_count": null,
      "outputs": []
    },
    {
      "cell_type": "code",
      "metadata": {
        "colab": {
          "base_uri": "https://localhost:8080/",
          "height": 609
        },
        "id": "BnElh9PUzLtp",
        "outputId": "bb90f9d3-5998-47a1-83fd-9ff4f2d06961"
      },
      "source": [
        "df_modelar_original = pd.read_csv(path+'Modelar_UH2021.txt', delimiter = \"|\")\r\n",
        "df_modelar_original"
      ],
      "execution_count": null,
      "outputs": [
        {
          "output_type": "execute_result",
          "data": {
            "text/html": [
              "<div>\n",
              "<style scoped>\n",
              "    .dataframe tbody tr th:only-of-type {\n",
              "        vertical-align: middle;\n",
              "    }\n",
              "\n",
              "    .dataframe tbody tr th {\n",
              "        vertical-align: top;\n",
              "    }\n",
              "\n",
              "    .dataframe thead th {\n",
              "        text-align: right;\n",
              "    }\n",
              "</style>\n",
              "<table border=\"1\" class=\"dataframe\">\n",
              "  <thead>\n",
              "    <tr style=\"text-align: right;\">\n",
              "      <th></th>\n",
              "      <th>fecha</th>\n",
              "      <th>id</th>\n",
              "      <th>visitas</th>\n",
              "      <th>categoria_uno</th>\n",
              "      <th>categoria_dos</th>\n",
              "      <th>estado</th>\n",
              "      <th>precio</th>\n",
              "      <th>dia_atipico</th>\n",
              "      <th>campaña</th>\n",
              "      <th>antiguedad</th>\n",
              "      <th>unidades_vendidas</th>\n",
              "    </tr>\n",
              "  </thead>\n",
              "  <tbody>\n",
              "    <tr>\n",
              "      <th>0</th>\n",
              "      <td>1/6/2015 0:00:00</td>\n",
              "      <td>21972</td>\n",
              "      <td>0</td>\n",
              "      <td>C</td>\n",
              "      <td>75.0</td>\n",
              "      <td>No Rotura</td>\n",
              "      <td>NaN</td>\n",
              "      <td>0</td>\n",
              "      <td>0</td>\n",
              "      <td>5241.0</td>\n",
              "      <td>0</td>\n",
              "    </tr>\n",
              "    <tr>\n",
              "      <th>1</th>\n",
              "      <td>1/6/2015 0:00:00</td>\n",
              "      <td>23910</td>\n",
              "      <td>5</td>\n",
              "      <td>C</td>\n",
              "      <td>170.0</td>\n",
              "      <td>No Rotura</td>\n",
              "      <td>6,07</td>\n",
              "      <td>0</td>\n",
              "      <td>0</td>\n",
              "      <td>5241.0</td>\n",
              "      <td>3</td>\n",
              "    </tr>\n",
              "    <tr>\n",
              "      <th>2</th>\n",
              "      <td>1/6/2015 0:00:00</td>\n",
              "      <td>24306</td>\n",
              "      <td>13</td>\n",
              "      <td>A</td>\n",
              "      <td>46.0</td>\n",
              "      <td>No Rotura</td>\n",
              "      <td>NaN</td>\n",
              "      <td>0</td>\n",
              "      <td>0</td>\n",
              "      <td>NaN</td>\n",
              "      <td>0</td>\n",
              "    </tr>\n",
              "    <tr>\n",
              "      <th>3</th>\n",
              "      <td>1/6/2015 0:00:00</td>\n",
              "      <td>24306</td>\n",
              "      <td>13</td>\n",
              "      <td>A</td>\n",
              "      <td>46.0</td>\n",
              "      <td>No Rotura</td>\n",
              "      <td>NaN</td>\n",
              "      <td>0</td>\n",
              "      <td>0</td>\n",
              "      <td>NaN</td>\n",
              "      <td>0</td>\n",
              "    </tr>\n",
              "    <tr>\n",
              "      <th>4</th>\n",
              "      <td>1/6/2015 0:00:00</td>\n",
              "      <td>27144</td>\n",
              "      <td>15</td>\n",
              "      <td>E</td>\n",
              "      <td>230.0</td>\n",
              "      <td>No Rotura</td>\n",
              "      <td>NaN</td>\n",
              "      <td>0</td>\n",
              "      <td>0</td>\n",
              "      <td>4064.0</td>\n",
              "      <td>0</td>\n",
              "    </tr>\n",
              "    <tr>\n",
              "      <th>...</th>\n",
              "      <td>...</td>\n",
              "      <td>...</td>\n",
              "      <td>...</td>\n",
              "      <td>...</td>\n",
              "      <td>...</td>\n",
              "      <td>...</td>\n",
              "      <td>...</td>\n",
              "      <td>...</td>\n",
              "      <td>...</td>\n",
              "      <td>...</td>\n",
              "      <td>...</td>\n",
              "    </tr>\n",
              "    <tr>\n",
              "      <th>4045017</th>\n",
              "      <td>30/9/2016 0:00:00</td>\n",
              "      <td>457416</td>\n",
              "      <td>1395</td>\n",
              "      <td>F</td>\n",
              "      <td>336.0</td>\n",
              "      <td>No Rotura</td>\n",
              "      <td>50,38</td>\n",
              "      <td>0</td>\n",
              "      <td>0</td>\n",
              "      <td>130.0</td>\n",
              "      <td>9</td>\n",
              "    </tr>\n",
              "    <tr>\n",
              "      <th>4045018</th>\n",
              "      <td>30/9/2016 0:00:00</td>\n",
              "      <td>457422</td>\n",
              "      <td>1080</td>\n",
              "      <td>F</td>\n",
              "      <td>336.0</td>\n",
              "      <td>Rotura</td>\n",
              "      <td>NaN</td>\n",
              "      <td>0</td>\n",
              "      <td>0</td>\n",
              "      <td>130.0</td>\n",
              "      <td>0</td>\n",
              "    </tr>\n",
              "    <tr>\n",
              "      <th>4045019</th>\n",
              "      <td>30/9/2016 0:00:00</td>\n",
              "      <td>458650</td>\n",
              "      <td>1385</td>\n",
              "      <td>K</td>\n",
              "      <td>340.0</td>\n",
              "      <td>No Rotura</td>\n",
              "      <td>NaN</td>\n",
              "      <td>0</td>\n",
              "      <td>0</td>\n",
              "      <td>126.0</td>\n",
              "      <td>0</td>\n",
              "    </tr>\n",
              "    <tr>\n",
              "      <th>4045020</th>\n",
              "      <td>30/9/2016 0:00:00</td>\n",
              "      <td>458660</td>\n",
              "      <td>1915</td>\n",
              "      <td>K</td>\n",
              "      <td>340.0</td>\n",
              "      <td>No Rotura</td>\n",
              "      <td>68,49</td>\n",
              "      <td>0</td>\n",
              "      <td>0</td>\n",
              "      <td>126.0</td>\n",
              "      <td>24</td>\n",
              "    </tr>\n",
              "    <tr>\n",
              "      <th>4045021</th>\n",
              "      <td>30/9/2016 0:00:00</td>\n",
              "      <td>458660</td>\n",
              "      <td>1915</td>\n",
              "      <td>K</td>\n",
              "      <td>340.0</td>\n",
              "      <td>No Rotura</td>\n",
              "      <td>68,49</td>\n",
              "      <td>0</td>\n",
              "      <td>0</td>\n",
              "      <td>126.0</td>\n",
              "      <td>24</td>\n",
              "    </tr>\n",
              "  </tbody>\n",
              "</table>\n",
              "<p>4045022 rows × 11 columns</p>\n",
              "</div>"
            ],
            "text/plain": [
              "                     fecha      id  ...  antiguedad unidades_vendidas\n",
              "0         1/6/2015 0:00:00   21972  ...      5241.0                 0\n",
              "1         1/6/2015 0:00:00   23910  ...      5241.0                 3\n",
              "2         1/6/2015 0:00:00   24306  ...         NaN                 0\n",
              "3         1/6/2015 0:00:00   24306  ...         NaN                 0\n",
              "4         1/6/2015 0:00:00   27144  ...      4064.0                 0\n",
              "...                    ...     ...  ...         ...               ...\n",
              "4045017  30/9/2016 0:00:00  457416  ...       130.0                 9\n",
              "4045018  30/9/2016 0:00:00  457422  ...       130.0                 0\n",
              "4045019  30/9/2016 0:00:00  458650  ...       126.0                 0\n",
              "4045020  30/9/2016 0:00:00  458660  ...       126.0                24\n",
              "4045021  30/9/2016 0:00:00  458660  ...       126.0                24\n",
              "\n",
              "[4045022 rows x 11 columns]"
            ]
          },
          "metadata": {
            "tags": []
          },
          "execution_count": 18
        }
      ]
    },
    {
      "cell_type": "code",
      "metadata": {
        "id": "Vlfr_kjhq_uP"
      },
      "source": [
        "df_estimar_original = pd.read_csv(path+'Estimar2.txt', delimiter = \"|\")\r\n",
        "df_estimar_original.head(5)"
      ],
      "execution_count": null,
      "outputs": []
    },
    {
      "cell_type": "markdown",
      "metadata": {
        "id": "5ZARxytN3Xhu"
      },
      "source": [
        "###Desde Google Colab (Ficheros subidos a Google drive previamente)"
      ]
    },
    {
      "cell_type": "code",
      "metadata": {
        "colab": {
          "base_uri": "https://localhost:8080/"
        },
        "id": "6TkxtT3qhDP4",
        "outputId": "4e66c0fb-fd3d-4c60-f7b8-b5d72e786088"
      },
      "source": [
        "#Montar unidad de Google Drive\r\n",
        "drive.mount('/gdrive')"
      ],
      "execution_count": null,
      "outputs": [
        {
          "output_type": "stream",
          "text": [
            "Mounted at /gdrive\n"
          ],
          "name": "stdout"
        }
      ]
    },
    {
      "cell_type": "code",
      "metadata": {
        "colab": {
          "base_uri": "https://localhost:8080/"
        },
        "id": "3i8OK98Q5KqN",
        "outputId": "cca53e14-8300-4560-9df7-aeaa7c50e404"
      },
      "source": [
        "#Cambiar al directorio de drive donde tengamos los datesets\r\n",
        "!cp '/gdrive/My Drive/Datathon Cajamar 2021/Data/Modelar_UH2021.txt' Modelar.txt\r\n",
        "!cp '/gdrive/My Drive/Datathon Cajamar 2021/Data/Estimar2.txt' Estimar.txt\r\n",
        "!ls -l | grep txt"
      ],
      "execution_count": null,
      "outputs": [
        {
          "output_type": "stream",
          "text": [
            "-rw------- 1 root root  11090160 Mar 16 22:17 Estimar.txt\n",
            "-rw------- 1 root root 234151337 Mar 16 22:17 Modelar.txt\n"
          ],
          "name": "stdout"
        }
      ]
    },
    {
      "cell_type": "code",
      "metadata": {
        "colab": {
          "base_uri": "https://localhost:8080/",
          "height": 424
        },
        "id": "ZOHh5wyo3Xh7",
        "outputId": "d561954f-a790-4183-bf12-f60142ddbaa3"
      },
      "source": [
        "df_modelar_original = pd.read_csv('Modelar.txt', delimiter = \"|\")\r\n",
        "df_modelar_original"
      ],
      "execution_count": null,
      "outputs": [
        {
          "output_type": "execute_result",
          "data": {
            "text/html": [
              "<div>\n",
              "<style scoped>\n",
              "    .dataframe tbody tr th:only-of-type {\n",
              "        vertical-align: middle;\n",
              "    }\n",
              "\n",
              "    .dataframe tbody tr th {\n",
              "        vertical-align: top;\n",
              "    }\n",
              "\n",
              "    .dataframe thead th {\n",
              "        text-align: right;\n",
              "    }\n",
              "</style>\n",
              "<table border=\"1\" class=\"dataframe\">\n",
              "  <thead>\n",
              "    <tr style=\"text-align: right;\">\n",
              "      <th></th>\n",
              "      <th>fecha</th>\n",
              "      <th>id</th>\n",
              "      <th>visitas</th>\n",
              "      <th>categoria_uno</th>\n",
              "      <th>categoria_dos</th>\n",
              "      <th>estado</th>\n",
              "      <th>precio</th>\n",
              "      <th>dia_atipico</th>\n",
              "      <th>campaña</th>\n",
              "      <th>antiguedad</th>\n",
              "      <th>unidades_vendidas</th>\n",
              "    </tr>\n",
              "  </thead>\n",
              "  <tbody>\n",
              "    <tr>\n",
              "      <th>0</th>\n",
              "      <td>1/6/2015 0:00:00</td>\n",
              "      <td>21972</td>\n",
              "      <td>0</td>\n",
              "      <td>C</td>\n",
              "      <td>75.0</td>\n",
              "      <td>No Rotura</td>\n",
              "      <td>NaN</td>\n",
              "      <td>0</td>\n",
              "      <td>0</td>\n",
              "      <td>5241.0</td>\n",
              "      <td>0</td>\n",
              "    </tr>\n",
              "    <tr>\n",
              "      <th>1</th>\n",
              "      <td>1/6/2015 0:00:00</td>\n",
              "      <td>23910</td>\n",
              "      <td>5</td>\n",
              "      <td>C</td>\n",
              "      <td>170.0</td>\n",
              "      <td>No Rotura</td>\n",
              "      <td>6,07</td>\n",
              "      <td>0</td>\n",
              "      <td>0</td>\n",
              "      <td>5241.0</td>\n",
              "      <td>3</td>\n",
              "    </tr>\n",
              "    <tr>\n",
              "      <th>2</th>\n",
              "      <td>1/6/2015 0:00:00</td>\n",
              "      <td>24306</td>\n",
              "      <td>13</td>\n",
              "      <td>A</td>\n",
              "      <td>46.0</td>\n",
              "      <td>No Rotura</td>\n",
              "      <td>NaN</td>\n",
              "      <td>0</td>\n",
              "      <td>0</td>\n",
              "      <td>NaN</td>\n",
              "      <td>0</td>\n",
              "    </tr>\n",
              "    <tr>\n",
              "      <th>3</th>\n",
              "      <td>1/6/2015 0:00:00</td>\n",
              "      <td>24306</td>\n",
              "      <td>13</td>\n",
              "      <td>A</td>\n",
              "      <td>46.0</td>\n",
              "      <td>No Rotura</td>\n",
              "      <td>NaN</td>\n",
              "      <td>0</td>\n",
              "      <td>0</td>\n",
              "      <td>NaN</td>\n",
              "      <td>0</td>\n",
              "    </tr>\n",
              "    <tr>\n",
              "      <th>4</th>\n",
              "      <td>1/6/2015 0:00:00</td>\n",
              "      <td>27144</td>\n",
              "      <td>15</td>\n",
              "      <td>E</td>\n",
              "      <td>230.0</td>\n",
              "      <td>No Rotura</td>\n",
              "      <td>NaN</td>\n",
              "      <td>0</td>\n",
              "      <td>0</td>\n",
              "      <td>4064.0</td>\n",
              "      <td>0</td>\n",
              "    </tr>\n",
              "    <tr>\n",
              "      <th>...</th>\n",
              "      <td>...</td>\n",
              "      <td>...</td>\n",
              "      <td>...</td>\n",
              "      <td>...</td>\n",
              "      <td>...</td>\n",
              "      <td>...</td>\n",
              "      <td>...</td>\n",
              "      <td>...</td>\n",
              "      <td>...</td>\n",
              "      <td>...</td>\n",
              "      <td>...</td>\n",
              "    </tr>\n",
              "    <tr>\n",
              "      <th>4045017</th>\n",
              "      <td>30/9/2016 0:00:00</td>\n",
              "      <td>457416</td>\n",
              "      <td>1395</td>\n",
              "      <td>F</td>\n",
              "      <td>336.0</td>\n",
              "      <td>No Rotura</td>\n",
              "      <td>50,38</td>\n",
              "      <td>0</td>\n",
              "      <td>0</td>\n",
              "      <td>130.0</td>\n",
              "      <td>9</td>\n",
              "    </tr>\n",
              "    <tr>\n",
              "      <th>4045018</th>\n",
              "      <td>30/9/2016 0:00:00</td>\n",
              "      <td>457422</td>\n",
              "      <td>1080</td>\n",
              "      <td>F</td>\n",
              "      <td>336.0</td>\n",
              "      <td>Rotura</td>\n",
              "      <td>NaN</td>\n",
              "      <td>0</td>\n",
              "      <td>0</td>\n",
              "      <td>130.0</td>\n",
              "      <td>0</td>\n",
              "    </tr>\n",
              "    <tr>\n",
              "      <th>4045019</th>\n",
              "      <td>30/9/2016 0:00:00</td>\n",
              "      <td>458650</td>\n",
              "      <td>1385</td>\n",
              "      <td>K</td>\n",
              "      <td>340.0</td>\n",
              "      <td>No Rotura</td>\n",
              "      <td>NaN</td>\n",
              "      <td>0</td>\n",
              "      <td>0</td>\n",
              "      <td>126.0</td>\n",
              "      <td>0</td>\n",
              "    </tr>\n",
              "    <tr>\n",
              "      <th>4045020</th>\n",
              "      <td>30/9/2016 0:00:00</td>\n",
              "      <td>458660</td>\n",
              "      <td>1915</td>\n",
              "      <td>K</td>\n",
              "      <td>340.0</td>\n",
              "      <td>No Rotura</td>\n",
              "      <td>68,49</td>\n",
              "      <td>0</td>\n",
              "      <td>0</td>\n",
              "      <td>126.0</td>\n",
              "      <td>24</td>\n",
              "    </tr>\n",
              "    <tr>\n",
              "      <th>4045021</th>\n",
              "      <td>30/9/2016 0:00:00</td>\n",
              "      <td>458660</td>\n",
              "      <td>1915</td>\n",
              "      <td>K</td>\n",
              "      <td>340.0</td>\n",
              "      <td>No Rotura</td>\n",
              "      <td>68,49</td>\n",
              "      <td>0</td>\n",
              "      <td>0</td>\n",
              "      <td>126.0</td>\n",
              "      <td>24</td>\n",
              "    </tr>\n",
              "  </tbody>\n",
              "</table>\n",
              "<p>4045022 rows × 11 columns</p>\n",
              "</div>"
            ],
            "text/plain": [
              "                     fecha      id  visitas categoria_uno  categoria_dos  \\\n",
              "0         1/6/2015 0:00:00   21972        0             C           75.0   \n",
              "1         1/6/2015 0:00:00   23910        5             C          170.0   \n",
              "2         1/6/2015 0:00:00   24306       13             A           46.0   \n",
              "3         1/6/2015 0:00:00   24306       13             A           46.0   \n",
              "4         1/6/2015 0:00:00   27144       15             E          230.0   \n",
              "...                    ...     ...      ...           ...            ...   \n",
              "4045017  30/9/2016 0:00:00  457416     1395             F          336.0   \n",
              "4045018  30/9/2016 0:00:00  457422     1080             F          336.0   \n",
              "4045019  30/9/2016 0:00:00  458650     1385             K          340.0   \n",
              "4045020  30/9/2016 0:00:00  458660     1915             K          340.0   \n",
              "4045021  30/9/2016 0:00:00  458660     1915             K          340.0   \n",
              "\n",
              "            estado precio  dia_atipico  campaña  antiguedad  unidades_vendidas  \n",
              "0        No Rotura    NaN            0        0      5241.0                  0  \n",
              "1        No Rotura   6,07            0        0      5241.0                  3  \n",
              "2        No Rotura    NaN            0        0         NaN                  0  \n",
              "3        No Rotura    NaN            0        0         NaN                  0  \n",
              "4        No Rotura    NaN            0        0      4064.0                  0  \n",
              "...            ...    ...          ...      ...         ...                ...  \n",
              "4045017  No Rotura  50,38            0        0       130.0                  9  \n",
              "4045018     Rotura    NaN            0        0       130.0                  0  \n",
              "4045019  No Rotura    NaN            0        0       126.0                  0  \n",
              "4045020  No Rotura  68,49            0        0       126.0                 24  \n",
              "4045021  No Rotura  68,49            0        0       126.0                 24  \n",
              "\n",
              "[4045022 rows x 11 columns]"
            ]
          },
          "metadata": {
            "tags": []
          },
          "execution_count": 4
        }
      ]
    },
    {
      "cell_type": "code",
      "metadata": {
        "colab": {
          "base_uri": "https://localhost:8080/",
          "height": 461
        },
        "id": "x-dqW1zi5KJ9",
        "outputId": "e91dfc13-d745-41df-fe18-1933ac4b3289"
      },
      "source": [
        "df_estimar_original = pd.read_csv('Estimar.txt', delimiter = \"|\")\r\n",
        "df_estimar_original"
      ],
      "execution_count": null,
      "outputs": [
        {
          "output_type": "stream",
          "text": [
            "/usr/local/lib/python3.7/dist-packages/IPython/core/interactiveshell.py:2718: DtypeWarning: Columns (4) have mixed types.Specify dtype option on import or set low_memory=False.\n",
            "  interactivity=interactivity, compiler=compiler, result=result)\n"
          ],
          "name": "stderr"
        },
        {
          "output_type": "execute_result",
          "data": {
            "text/html": [
              "<div>\n",
              "<style scoped>\n",
              "    .dataframe tbody tr th:only-of-type {\n",
              "        vertical-align: middle;\n",
              "    }\n",
              "\n",
              "    .dataframe tbody tr th {\n",
              "        vertical-align: top;\n",
              "    }\n",
              "\n",
              "    .dataframe thead th {\n",
              "        text-align: right;\n",
              "    }\n",
              "</style>\n",
              "<table border=\"1\" class=\"dataframe\">\n",
              "  <thead>\n",
              "    <tr style=\"text-align: right;\">\n",
              "      <th></th>\n",
              "      <th>fecha</th>\n",
              "      <th>id</th>\n",
              "      <th>visitas</th>\n",
              "      <th>categoria_uno</th>\n",
              "      <th>categoria_dos</th>\n",
              "      <th>estado</th>\n",
              "      <th>precio</th>\n",
              "      <th>dia_atipico</th>\n",
              "      <th>campaña</th>\n",
              "      <th>antiguedad</th>\n",
              "    </tr>\n",
              "  </thead>\n",
              "  <tbody>\n",
              "    <tr>\n",
              "      <th>0</th>\n",
              "      <td>2016-10-01</td>\n",
              "      <td>21972</td>\n",
              "      <td>5</td>\n",
              "      <td>C</td>\n",
              "      <td>75</td>\n",
              "      <td>No Rotura</td>\n",
              "      <td>5,84</td>\n",
              "      <td>0</td>\n",
              "      <td>0</td>\n",
              "      <td>5150</td>\n",
              "    </tr>\n",
              "    <tr>\n",
              "      <th>1</th>\n",
              "      <td>2016-10-02</td>\n",
              "      <td>21972</td>\n",
              "      <td>15</td>\n",
              "      <td>C</td>\n",
              "      <td>75</td>\n",
              "      <td>No Rotura</td>\n",
              "      <td>5,84</td>\n",
              "      <td>0</td>\n",
              "      <td>0</td>\n",
              "      <td>5150</td>\n",
              "    </tr>\n",
              "    <tr>\n",
              "      <th>2</th>\n",
              "      <td>2016-10-03</td>\n",
              "      <td>21972</td>\n",
              "      <td>5</td>\n",
              "      <td>C</td>\n",
              "      <td>75</td>\n",
              "      <td>No Rotura</td>\n",
              "      <td>5,84</td>\n",
              "      <td>0</td>\n",
              "      <td>0</td>\n",
              "      <td>5150</td>\n",
              "    </tr>\n",
              "    <tr>\n",
              "      <th>3</th>\n",
              "      <td>2016-10-04</td>\n",
              "      <td>21972</td>\n",
              "      <td>5</td>\n",
              "      <td>C</td>\n",
              "      <td>75</td>\n",
              "      <td>No Rotura</td>\n",
              "      <td>5,84</td>\n",
              "      <td>0</td>\n",
              "      <td>0</td>\n",
              "      <td>5150</td>\n",
              "    </tr>\n",
              "    <tr>\n",
              "      <th>4</th>\n",
              "      <td>2016-10-05</td>\n",
              "      <td>21972</td>\n",
              "      <td>0</td>\n",
              "      <td>C</td>\n",
              "      <td>75</td>\n",
              "      <td>No Rotura</td>\n",
              "      <td>5,84</td>\n",
              "      <td>0</td>\n",
              "      <td>0</td>\n",
              "      <td>5150</td>\n",
              "    </tr>\n",
              "    <tr>\n",
              "      <th>...</th>\n",
              "      <td>...</td>\n",
              "      <td>...</td>\n",
              "      <td>...</td>\n",
              "      <td>...</td>\n",
              "      <td>...</td>\n",
              "      <td>...</td>\n",
              "      <td>...</td>\n",
              "      <td>...</td>\n",
              "      <td>...</td>\n",
              "      <td>...</td>\n",
              "    </tr>\n",
              "    <tr>\n",
              "      <th>212836</th>\n",
              "      <td>2016-12-26</td>\n",
              "      <td>458660</td>\n",
              "      <td>1085</td>\n",
              "      <td>K</td>\n",
              "      <td>340</td>\n",
              "      <td>No Rotura</td>\n",
              "      <td>70,85</td>\n",
              "      <td>1</td>\n",
              "      <td>0</td>\n",
              "      <td>35</td>\n",
              "    </tr>\n",
              "    <tr>\n",
              "      <th>212837</th>\n",
              "      <td>2016-12-27</td>\n",
              "      <td>458660</td>\n",
              "      <td>965</td>\n",
              "      <td>K</td>\n",
              "      <td>340</td>\n",
              "      <td>No Rotura</td>\n",
              "      <td>70,85</td>\n",
              "      <td>1</td>\n",
              "      <td>0</td>\n",
              "      <td>35</td>\n",
              "    </tr>\n",
              "    <tr>\n",
              "      <th>212838</th>\n",
              "      <td>2016-12-28</td>\n",
              "      <td>458660</td>\n",
              "      <td>1005</td>\n",
              "      <td>K</td>\n",
              "      <td>340</td>\n",
              "      <td>No Rotura</td>\n",
              "      <td>70,85</td>\n",
              "      <td>1</td>\n",
              "      <td>0</td>\n",
              "      <td>35</td>\n",
              "    </tr>\n",
              "    <tr>\n",
              "      <th>212839</th>\n",
              "      <td>2016-12-29</td>\n",
              "      <td>458660</td>\n",
              "      <td>745</td>\n",
              "      <td>K</td>\n",
              "      <td>340</td>\n",
              "      <td>No Rotura</td>\n",
              "      <td>70,85</td>\n",
              "      <td>1</td>\n",
              "      <td>0</td>\n",
              "      <td>35</td>\n",
              "    </tr>\n",
              "    <tr>\n",
              "      <th>212840</th>\n",
              "      <td>2016-12-30</td>\n",
              "      <td>458660</td>\n",
              "      <td>1225</td>\n",
              "      <td>K</td>\n",
              "      <td>340</td>\n",
              "      <td>No Rotura</td>\n",
              "      <td>70,85</td>\n",
              "      <td>1</td>\n",
              "      <td>0</td>\n",
              "      <td>35</td>\n",
              "    </tr>\n",
              "  </tbody>\n",
              "</table>\n",
              "<p>212841 rows × 10 columns</p>\n",
              "</div>"
            ],
            "text/plain": [
              "             fecha      id  visitas categoria_uno categoria_dos     estado  \\\n",
              "0       2016-10-01   21972        5             C            75  No Rotura   \n",
              "1       2016-10-02   21972       15             C            75  No Rotura   \n",
              "2       2016-10-03   21972        5             C            75  No Rotura   \n",
              "3       2016-10-04   21972        5             C            75  No Rotura   \n",
              "4       2016-10-05   21972        0             C            75  No Rotura   \n",
              "...            ...     ...      ...           ...           ...        ...   \n",
              "212836  2016-12-26  458660     1085             K           340  No Rotura   \n",
              "212837  2016-12-27  458660      965             K           340  No Rotura   \n",
              "212838  2016-12-28  458660     1005             K           340  No Rotura   \n",
              "212839  2016-12-29  458660      745             K           340  No Rotura   \n",
              "212840  2016-12-30  458660     1225             K           340  No Rotura   \n",
              "\n",
              "       precio  dia_atipico  campaña  antiguedad  \n",
              "0        5,84            0        0        5150  \n",
              "1        5,84            0        0        5150  \n",
              "2        5,84            0        0        5150  \n",
              "3        5,84            0        0        5150  \n",
              "4        5,84            0        0        5150  \n",
              "...       ...          ...      ...         ...  \n",
              "212836  70,85            1        0          35  \n",
              "212837  70,85            1        0          35  \n",
              "212838  70,85            1        0          35  \n",
              "212839  70,85            1        0          35  \n",
              "212840  70,85            1        0          35  \n",
              "\n",
              "[212841 rows x 10 columns]"
            ]
          },
          "metadata": {
            "tags": []
          },
          "execution_count": 6
        }
      ]
    },
    {
      "cell_type": "markdown",
      "metadata": {
        "id": "yKyis1QzYoLc"
      },
      "source": [
        "#Limpieza de Información"
      ]
    },
    {
      "cell_type": "code",
      "metadata": {
        "id": "IaAjVABTr2qg"
      },
      "source": [
        "#Creamos un par de funciones que nos permitan unificar el formato de la columna fecha para ambos datasets\r\n",
        "def date_convert_modelar(date_to_convert):\r\n",
        "     return datetime.datetime.strptime(date_to_convert, \"%d/%m/%Y %H:%M:%S\").strftime('%Y-%m-%d')\r\n",
        "\r\n",
        "def date_convert_estimar(date_to_convert):\r\n",
        "     return datetime.datetime.strptime(date_to_convert, \"%Y-%m-%d\").strftime('%Y-%m-%d')\r\n",
        "\r\n",
        "def date_convert_final(date_to_convert):\r\n",
        "     return datetime.datetime.strptime(date_to_convert, \"%Y-%m-%d\").strftime('%d-%m-%Y')"
      ],
      "execution_count": null,
      "outputs": []
    },
    {
      "cell_type": "code",
      "metadata": {
        "id": "tlbyXiubss34"
      },
      "source": [
        "#Aplicamos las confuciones date_convert respectivas a ambos datasets\r\n",
        "df_estimar = df_estimar_original\r\n",
        "df_estimar['fecha'] = df_estimar['fecha'].apply(date_convert_estimar)\r\n",
        "df_estimar['fecha'] = pd.to_datetime(df_estimar['fecha'])\r\n",
        "\r\n",
        "df_modelar = df_modelar_original\r\n",
        "df_modelar['fecha'] = df_modelar['fecha'].apply(date_convert_modelar)\r\n",
        "df_modelar['fecha'] = pd.to_datetime(df_modelar['fecha'])"
      ],
      "execution_count": null,
      "outputs": []
    },
    {
      "cell_type": "code",
      "metadata": {
        "id": "TllLxBbRu534",
        "colab": {
          "base_uri": "https://localhost:8080/",
          "height": 206
        },
        "outputId": "8af816d8-dd2d-4ebb-985d-033687a33844"
      },
      "source": [
        "df_consolidado = df_modelar\r\n",
        "df_consolidado = df_consolidado.append(df_estimar)\r\n",
        "df_consolidado.head(5)"
      ],
      "execution_count": null,
      "outputs": [
        {
          "output_type": "execute_result",
          "data": {
            "text/html": [
              "<div>\n",
              "<style scoped>\n",
              "    .dataframe tbody tr th:only-of-type {\n",
              "        vertical-align: middle;\n",
              "    }\n",
              "\n",
              "    .dataframe tbody tr th {\n",
              "        vertical-align: top;\n",
              "    }\n",
              "\n",
              "    .dataframe thead th {\n",
              "        text-align: right;\n",
              "    }\n",
              "</style>\n",
              "<table border=\"1\" class=\"dataframe\">\n",
              "  <thead>\n",
              "    <tr style=\"text-align: right;\">\n",
              "      <th></th>\n",
              "      <th>fecha</th>\n",
              "      <th>id</th>\n",
              "      <th>visitas</th>\n",
              "      <th>categoria_uno</th>\n",
              "      <th>categoria_dos</th>\n",
              "      <th>estado</th>\n",
              "      <th>precio</th>\n",
              "      <th>dia_atipico</th>\n",
              "      <th>campaña</th>\n",
              "      <th>antiguedad</th>\n",
              "      <th>unidades_vendidas</th>\n",
              "    </tr>\n",
              "  </thead>\n",
              "  <tbody>\n",
              "    <tr>\n",
              "      <th>0</th>\n",
              "      <td>2015-06-01</td>\n",
              "      <td>21972</td>\n",
              "      <td>0</td>\n",
              "      <td>C</td>\n",
              "      <td>75</td>\n",
              "      <td>No Rotura</td>\n",
              "      <td>NaN</td>\n",
              "      <td>0</td>\n",
              "      <td>0</td>\n",
              "      <td>5241.0</td>\n",
              "      <td>0.0</td>\n",
              "    </tr>\n",
              "    <tr>\n",
              "      <th>1</th>\n",
              "      <td>2015-06-01</td>\n",
              "      <td>23910</td>\n",
              "      <td>5</td>\n",
              "      <td>C</td>\n",
              "      <td>170</td>\n",
              "      <td>No Rotura</td>\n",
              "      <td>6,07</td>\n",
              "      <td>0</td>\n",
              "      <td>0</td>\n",
              "      <td>5241.0</td>\n",
              "      <td>3.0</td>\n",
              "    </tr>\n",
              "    <tr>\n",
              "      <th>2</th>\n",
              "      <td>2015-06-01</td>\n",
              "      <td>24306</td>\n",
              "      <td>13</td>\n",
              "      <td>A</td>\n",
              "      <td>46</td>\n",
              "      <td>No Rotura</td>\n",
              "      <td>NaN</td>\n",
              "      <td>0</td>\n",
              "      <td>0</td>\n",
              "      <td>NaN</td>\n",
              "      <td>0.0</td>\n",
              "    </tr>\n",
              "    <tr>\n",
              "      <th>3</th>\n",
              "      <td>2015-06-01</td>\n",
              "      <td>24306</td>\n",
              "      <td>13</td>\n",
              "      <td>A</td>\n",
              "      <td>46</td>\n",
              "      <td>No Rotura</td>\n",
              "      <td>NaN</td>\n",
              "      <td>0</td>\n",
              "      <td>0</td>\n",
              "      <td>NaN</td>\n",
              "      <td>0.0</td>\n",
              "    </tr>\n",
              "    <tr>\n",
              "      <th>4</th>\n",
              "      <td>2015-06-01</td>\n",
              "      <td>27144</td>\n",
              "      <td>15</td>\n",
              "      <td>E</td>\n",
              "      <td>230</td>\n",
              "      <td>No Rotura</td>\n",
              "      <td>NaN</td>\n",
              "      <td>0</td>\n",
              "      <td>0</td>\n",
              "      <td>4064.0</td>\n",
              "      <td>0.0</td>\n",
              "    </tr>\n",
              "  </tbody>\n",
              "</table>\n",
              "</div>"
            ],
            "text/plain": [
              "       fecha     id  visitas categoria_uno categoria_dos     estado precio  \\\n",
              "0 2015-06-01  21972        0             C            75  No Rotura    NaN   \n",
              "1 2015-06-01  23910        5             C           170  No Rotura   6,07   \n",
              "2 2015-06-01  24306       13             A            46  No Rotura    NaN   \n",
              "3 2015-06-01  24306       13             A            46  No Rotura    NaN   \n",
              "4 2015-06-01  27144       15             E           230  No Rotura    NaN   \n",
              "\n",
              "   dia_atipico  campaña  antiguedad  unidades_vendidas  \n",
              "0            0        0      5241.0                0.0  \n",
              "1            0        0      5241.0                3.0  \n",
              "2            0        0         NaN                0.0  \n",
              "3            0        0         NaN                0.0  \n",
              "4            0        0      4064.0                0.0  "
            ]
          },
          "metadata": {
            "tags": []
          },
          "execution_count": 9
        }
      ]
    },
    {
      "cell_type": "code",
      "metadata": {
        "id": "wyShbPp_q8en",
        "colab": {
          "base_uri": "https://localhost:8080/"
        },
        "outputId": "50e3bd1e-ff91-48ec-b381-ef2f00111555"
      },
      "source": [
        "dias_estimar = len(df_estimar_original['fecha'].unique())\r\n",
        "dias_modelar = len(df_modelar_original['fecha'].unique())\r\n",
        "id_estimar = len(df_estimar_original['id'].unique())\r\n",
        "id_modelar = len(df_modelar_original['id'].unique())\r\n",
        "registros_estimar = dias_estimar*id_estimar\r\n",
        "registros_modelar = dias_modelar*id_modelar\r\n",
        "\r\n",
        "#Eliminamos registros identicos duplicados\r\n",
        "df = df_consolidado.drop_duplicates(keep='first')\r\n",
        "\r\n",
        "#Eliminamos registros duplicados por concepto campaña\r\n",
        "df = df.sort_values(['id','fecha','campaña'])\r\n",
        "df = df.drop_duplicates(subset=df.columns.difference(['campaña']), keep='last')\r\n",
        "\r\n",
        "#Eliminamos duplicados por antiguedad\r\n",
        "df = df.sort_values(['id','fecha','antiguedad'])\r\n",
        "df = df.drop_duplicates(subset=df.columns.difference(['antiguedad']), keep='first')\r\n",
        "print('Si todos los productos tuvieran el mismo periodo, la base debería contener: ' + str(registros_estimar+registros_modelar) + ' registros y contiene ' + str(len(df)))\r\n",
        "\r\n",
        "#Rellenamos NAN de angituedad con una interpolación lineal\r\n",
        "df_antiguedad = df[['id','antiguedad']].drop_duplicates(keep='first')\r\n",
        "df_antiguedad = df_antiguedad.drop_duplicates(subset=df_antiguedad.columns.difference(['antiguedad']),keep='first')\r\n",
        "df_antiguedad = df_antiguedad.interpolate('linear')\r\n",
        "\r\n",
        "df = pd.merge(df,df_antiguedad,left_on=['id'], right_on = ['id'], how = 'left')\r\n",
        "df = df.drop('antiguedad_x', axis=1)\r\n",
        "df = df.rename(columns={\"antiguedad_y\": \"antiguedad\"})\r\n",
        "\r\n",
        "#Modificamos el formato de la columna precio para que sea leído como un float\r\n",
        "df['precio'] = df['precio'].str.replace(',', '.').astype(float)\r\n",
        "\r\n",
        "#Sustituimos el valor \"-\" de la categoría_dos\r\n",
        "df['categoria_dos'] = df['categoria_dos'].fillna(0).replace(\"-\",0).astype(int)"
      ],
      "execution_count": null,
      "outputs": [
        {
          "output_type": "stream",
          "text": [
            "Si todos los productos tuvieran el mismo periodo, la base debería contener: 2281528 registros y contiene 2242657\n"
          ],
          "name": "stdout"
        }
      ]
    },
    {
      "cell_type": "code",
      "metadata": {
        "id": "MhbuTmKqFPPB",
        "colab": {
          "base_uri": "https://localhost:8080/"
        },
        "outputId": "d9db297d-c024-4cd9-96bc-62108a9c6b0a"
      },
      "source": [
        "pd.set_option('mode.chained_assignment', None)\r\n",
        "\r\n",
        "####Asignamos el valor anterior más cercano en fecha a los NaN que se encuentran en la columna precio\r\n",
        " \r\n",
        "#Obtenemos una lista de cada id dentro de la base\r\n",
        "list_ids = df['id'].unique()\r\n",
        "\r\n",
        "#Creamos dataset provisional para guardar valores de precio ajustados\r\n",
        "df_provisional_1 = pd.DataFrame()\r\n",
        "\r\n",
        "#Iteramos por cada id para asignar el valor de precio\r\n",
        "for id in list_ids:\r\n",
        "  df_provisional = df[df['id'] == id]\r\n",
        "  df_provisional['precio'] = df_provisional['precio'].fillna(method='ffill')\r\n",
        "  df_provisional_1 = df_provisional_1.append(df_provisional, ignore_index = True)\r\n",
        "\r\n",
        "#Realizamos un join para unir las bases\r\n",
        "precio = df_provisional_1[\"precio\"]\r\n",
        "df = df.join(precio,rsuffix='_2')\r\n",
        "df = df.drop(['precio'], axis=1)\r\n",
        "df = df.rename(columns={\"precio_2\": \"precio\"})\r\n",
        "print(len(df['id'].unique()))"
      ],
      "execution_count": null,
      "outputs": [
        {
          "output_type": "stream",
          "text": [
            "4168\n"
          ],
          "name": "stdout"
        }
      ]
    },
    {
      "cell_type": "code",
      "metadata": {
        "id": "09MpVrCJ2-Bq"
      },
      "source": [
        "df = df.dropna(axis=0, subset=['precio'])\r\n",
        "df[['id','visitas','categoria_dos','antiguedad','dia_atipico','campaña']] = df[['id','visitas','categoria_dos','antiguedad','dia_atipico','campaña']].astype(int)\r\n",
        "df['fecha'] = pd.to_datetime(df['fecha'])\r\n",
        "df['dia_semana'] = df['fecha'].dt.dayofweek\r\n",
        "#df['fecha'] = df['fecha'].astype(str)\r\n",
        "#df['fecha'] = df['fecha'].apply(date_convert_final)\r\n",
        "#df['fecha'] = df['fecha'].astype(str)"
      ],
      "execution_count": null,
      "outputs": []
    },
    {
      "cell_type": "code",
      "metadata": {
        "id": "QaomoxMfvIqo",
        "colab": {
          "base_uri": "https://localhost:8080/",
          "height": 206
        },
        "outputId": "5add1864-7788-4a48-82db-dd74b9933caa"
      },
      "source": [
        "df = df[['fecha','dia_semana', 'id', 'visitas', 'categoria_uno', 'categoria_dos', 'estado', 'precio', 'dia_atipico', 'campaña', 'antiguedad', 'unidades_vendidas']]\r\n",
        "df.head()"
      ],
      "execution_count": null,
      "outputs": [
        {
          "output_type": "execute_result",
          "data": {
            "text/html": [
              "<div>\n",
              "<style scoped>\n",
              "    .dataframe tbody tr th:only-of-type {\n",
              "        vertical-align: middle;\n",
              "    }\n",
              "\n",
              "    .dataframe tbody tr th {\n",
              "        vertical-align: top;\n",
              "    }\n",
              "\n",
              "    .dataframe thead th {\n",
              "        text-align: right;\n",
              "    }\n",
              "</style>\n",
              "<table border=\"1\" class=\"dataframe\">\n",
              "  <thead>\n",
              "    <tr style=\"text-align: right;\">\n",
              "      <th></th>\n",
              "      <th>fecha</th>\n",
              "      <th>dia_semana</th>\n",
              "      <th>id</th>\n",
              "      <th>visitas</th>\n",
              "      <th>categoria_uno</th>\n",
              "      <th>categoria_dos</th>\n",
              "      <th>estado</th>\n",
              "      <th>precio</th>\n",
              "      <th>dia_atipico</th>\n",
              "      <th>campaña</th>\n",
              "      <th>antiguedad</th>\n",
              "      <th>unidades_vendidas</th>\n",
              "    </tr>\n",
              "  </thead>\n",
              "  <tbody>\n",
              "    <tr>\n",
              "      <th>5</th>\n",
              "      <td>2015-06-06</td>\n",
              "      <td>5</td>\n",
              "      <td>21972</td>\n",
              "      <td>1</td>\n",
              "      <td>C</td>\n",
              "      <td>75</td>\n",
              "      <td>No Rotura</td>\n",
              "      <td>5.84</td>\n",
              "      <td>0</td>\n",
              "      <td>0</td>\n",
              "      <td>5241</td>\n",
              "      <td>3.0</td>\n",
              "    </tr>\n",
              "    <tr>\n",
              "      <th>6</th>\n",
              "      <td>2015-06-07</td>\n",
              "      <td>6</td>\n",
              "      <td>21972</td>\n",
              "      <td>1</td>\n",
              "      <td>C</td>\n",
              "      <td>75</td>\n",
              "      <td>No Rotura</td>\n",
              "      <td>5.84</td>\n",
              "      <td>0</td>\n",
              "      <td>0</td>\n",
              "      <td>5241</td>\n",
              "      <td>0.0</td>\n",
              "    </tr>\n",
              "    <tr>\n",
              "      <th>7</th>\n",
              "      <td>2015-06-08</td>\n",
              "      <td>0</td>\n",
              "      <td>21972</td>\n",
              "      <td>1</td>\n",
              "      <td>C</td>\n",
              "      <td>75</td>\n",
              "      <td>No Rotura</td>\n",
              "      <td>5.84</td>\n",
              "      <td>0</td>\n",
              "      <td>0</td>\n",
              "      <td>5241</td>\n",
              "      <td>3.0</td>\n",
              "    </tr>\n",
              "    <tr>\n",
              "      <th>8</th>\n",
              "      <td>2015-06-09</td>\n",
              "      <td>1</td>\n",
              "      <td>21972</td>\n",
              "      <td>1</td>\n",
              "      <td>C</td>\n",
              "      <td>75</td>\n",
              "      <td>No Rotura</td>\n",
              "      <td>5.84</td>\n",
              "      <td>0</td>\n",
              "      <td>0</td>\n",
              "      <td>5241</td>\n",
              "      <td>0.0</td>\n",
              "    </tr>\n",
              "    <tr>\n",
              "      <th>9</th>\n",
              "      <td>2015-06-10</td>\n",
              "      <td>2</td>\n",
              "      <td>21972</td>\n",
              "      <td>0</td>\n",
              "      <td>C</td>\n",
              "      <td>75</td>\n",
              "      <td>No Rotura</td>\n",
              "      <td>5.84</td>\n",
              "      <td>0</td>\n",
              "      <td>0</td>\n",
              "      <td>5241</td>\n",
              "      <td>0.0</td>\n",
              "    </tr>\n",
              "  </tbody>\n",
              "</table>\n",
              "</div>"
            ],
            "text/plain": [
              "       fecha  dia_semana     id  visitas categoria_uno  categoria_dos  \\\n",
              "5 2015-06-06           5  21972        1             C             75   \n",
              "6 2015-06-07           6  21972        1             C             75   \n",
              "7 2015-06-08           0  21972        1             C             75   \n",
              "8 2015-06-09           1  21972        1             C             75   \n",
              "9 2015-06-10           2  21972        0             C             75   \n",
              "\n",
              "      estado  precio  dia_atipico  campaña  antiguedad  unidades_vendidas  \n",
              "5  No Rotura    5.84            0        0        5241                3.0  \n",
              "6  No Rotura    5.84            0        0        5241                0.0  \n",
              "7  No Rotura    5.84            0        0        5241                3.0  \n",
              "8  No Rotura    5.84            0        0        5241                0.0  \n",
              "9  No Rotura    5.84            0        0        5241                0.0  "
            ]
          },
          "metadata": {
            "tags": []
          },
          "execution_count": 13
        }
      ]
    },
    {
      "cell_type": "code",
      "metadata": {
        "id": "aGQoEzweBbLU"
      },
      "source": [
        "df.to_csv('Modelar_Estimar_Limpio_SinRelleno.csv')"
      ],
      "execution_count": null,
      "outputs": []
    },
    {
      "cell_type": "code",
      "metadata": {
        "colab": {
          "base_uri": "https://localhost:8080/"
        },
        "id": "JjZrSOjY8gEm",
        "outputId": "4127e8d0-7d6e-4ab5-946e-97f80ef21089"
      },
      "source": [
        "dfnew = df[df['fecha']>'2016-09-30']\r\n",
        "len(dfnew)"
      ],
      "execution_count": null,
      "outputs": [
        {
          "output_type": "execute_result",
          "data": {
            "text/plain": [
              "212841"
            ]
          },
          "metadata": {
            "tags": []
          },
          "execution_count": 15
        }
      ]
    },
    {
      "cell_type": "code",
      "metadata": {
        "id": "rkDeDwsu9r6G",
        "colab": {
          "base_uri": "https://localhost:8080/"
        },
        "outputId": "7e9b55ee-4333-49f4-9c15-69e5431aa4c4"
      },
      "source": [
        "df.isnull().sum()"
      ],
      "execution_count": null,
      "outputs": [
        {
          "output_type": "execute_result",
          "data": {
            "text/plain": [
              "fecha                     0\n",
              "dia_semana                0\n",
              "id                        0\n",
              "visitas                   0\n",
              "categoria_uno             0\n",
              "categoria_dos             0\n",
              "estado                    0\n",
              "precio                    0\n",
              "dia_atipico               0\n",
              "campaña                   0\n",
              "antiguedad                0\n",
              "unidades_vendidas    212841\n",
              "dtype: int64"
            ]
          },
          "metadata": {
            "tags": []
          },
          "execution_count": 16
        }
      ]
    },
    {
      "cell_type": "markdown",
      "metadata": {
        "id": "iuqUgLVHnnvW"
      },
      "source": [
        "#Guardar fichero limpio"
      ]
    },
    {
      "cell_type": "markdown",
      "metadata": {
        "id": "NEtHKMb05D79"
      },
      "source": [
        "Se guarda una copia del fichero limpio para poder empezar a partir de aqui en otro momento, y también para usar en exploratorio"
      ]
    },
    {
      "cell_type": "markdown",
      "metadata": {
        "id": "vaSqx-TQn2iL"
      },
      "source": [
        "###Desde cuaderno PC (Jupyter)"
      ]
    },
    {
      "cell_type": "code",
      "metadata": {
        "id": "KrAk4w30utv2"
      },
      "source": [
        "df.to_csv(path+'Modelar_Estimar_Limpio.csv')"
      ],
      "execution_count": null,
      "outputs": []
    },
    {
      "cell_type": "markdown",
      "metadata": {
        "id": "xIolS0tjoPuw"
      },
      "source": [
        "###Desde Google Colab (Ficheros en Google drive previamente)"
      ]
    },
    {
      "cell_type": "code",
      "metadata": {
        "colab": {
          "base_uri": "https://localhost:8080/"
        },
        "id": "qOTgtvQQqmDT",
        "outputId": "5b343b71-d9e8-4304-c62e-9781f0911f32"
      },
      "source": [
        "#Montar unidad de Google Drive\r\n",
        "drive.mount('/gdrive')"
      ],
      "execution_count": null,
      "outputs": [
        {
          "output_type": "stream",
          "text": [
            "Drive already mounted at /gdrive; to attempt to forcibly remount, call drive.mount(\"/gdrive\", force_remount=True).\n"
          ],
          "name": "stdout"
        }
      ]
    },
    {
      "cell_type": "code",
      "metadata": {
        "colab": {
          "base_uri": "https://localhost:8080/"
        },
        "id": "pfQ2hQDRoRNm",
        "outputId": "4691de3e-2dc1-4653-d700-fa40a02c3cf9"
      },
      "source": [
        "df.to_csv('Modelar_Estimar_Limpio.csv')\r\n",
        "!ls -l | grep csv\r\n",
        "!cp Modelar_Estimar_Limpio.csv '/gdrive/My Drive/Datathon Cajamar 2021/Data/Modelar_Estimar_Limpio.csv' "
      ],
      "execution_count": null,
      "outputs": [
        {
          "output_type": "stream",
          "text": [
            "-rw-r--r-- 1 root root 126117692 Mar 16 22:34 Modelar_Estimar_Limpio.csv\n"
          ],
          "name": "stdout"
        }
      ]
    },
    {
      "cell_type": "markdown",
      "metadata": {
        "id": "cbGK4DHoUvp5"
      },
      "source": [
        "#Carga de dataset limpio"
      ]
    },
    {
      "cell_type": "markdown",
      "metadata": {
        "id": "967CF3t0U-ld"
      },
      "source": [
        "Se recupera el fichero anterior para empezar las siguientes fases desde este punto si fuera necesario"
      ]
    },
    {
      "cell_type": "markdown",
      "metadata": {
        "id": "U6m1DLcFUvp9"
      },
      "source": [
        "###Desde cuaderno PC (Jupyter)"
      ]
    },
    {
      "cell_type": "markdown",
      "metadata": {
        "id": "Ak1__4EsUvp9"
      },
      "source": [
        "Indicar directorio de trabajo"
      ]
    },
    {
      "cell_type": "code",
      "metadata": {
        "id": "_6D0FGDdUvp_"
      },
      "source": [
        "#Cambiar al directorio de trabajo donde tengamos los datesets\r\n",
        "path = './data/'"
      ],
      "execution_count": null,
      "outputs": []
    },
    {
      "cell_type": "code",
      "metadata": {
        "colab": {
          "base_uri": "https://localhost:8080/",
          "height": 609
        },
        "id": "e-wyJvBuUvp_",
        "outputId": "bb90f9d3-5998-47a1-83fd-9ff4f2d06961"
      },
      "source": [
        "df = pd.read_csv(path+'Modelar_Estimar_Limpio.csv', sep=',', index_col=0)\r\n",
        "df"
      ],
      "execution_count": null,
      "outputs": [
        {
          "output_type": "execute_result",
          "data": {
            "text/html": [
              "<div>\n",
              "<style scoped>\n",
              "    .dataframe tbody tr th:only-of-type {\n",
              "        vertical-align: middle;\n",
              "    }\n",
              "\n",
              "    .dataframe tbody tr th {\n",
              "        vertical-align: top;\n",
              "    }\n",
              "\n",
              "    .dataframe thead th {\n",
              "        text-align: right;\n",
              "    }\n",
              "</style>\n",
              "<table border=\"1\" class=\"dataframe\">\n",
              "  <thead>\n",
              "    <tr style=\"text-align: right;\">\n",
              "      <th></th>\n",
              "      <th>fecha</th>\n",
              "      <th>id</th>\n",
              "      <th>visitas</th>\n",
              "      <th>categoria_uno</th>\n",
              "      <th>categoria_dos</th>\n",
              "      <th>estado</th>\n",
              "      <th>precio</th>\n",
              "      <th>dia_atipico</th>\n",
              "      <th>campaña</th>\n",
              "      <th>antiguedad</th>\n",
              "      <th>unidades_vendidas</th>\n",
              "    </tr>\n",
              "  </thead>\n",
              "  <tbody>\n",
              "    <tr>\n",
              "      <th>0</th>\n",
              "      <td>1/6/2015 0:00:00</td>\n",
              "      <td>21972</td>\n",
              "      <td>0</td>\n",
              "      <td>C</td>\n",
              "      <td>75.0</td>\n",
              "      <td>No Rotura</td>\n",
              "      <td>NaN</td>\n",
              "      <td>0</td>\n",
              "      <td>0</td>\n",
              "      <td>5241.0</td>\n",
              "      <td>0</td>\n",
              "    </tr>\n",
              "    <tr>\n",
              "      <th>1</th>\n",
              "      <td>1/6/2015 0:00:00</td>\n",
              "      <td>23910</td>\n",
              "      <td>5</td>\n",
              "      <td>C</td>\n",
              "      <td>170.0</td>\n",
              "      <td>No Rotura</td>\n",
              "      <td>6,07</td>\n",
              "      <td>0</td>\n",
              "      <td>0</td>\n",
              "      <td>5241.0</td>\n",
              "      <td>3</td>\n",
              "    </tr>\n",
              "    <tr>\n",
              "      <th>2</th>\n",
              "      <td>1/6/2015 0:00:00</td>\n",
              "      <td>24306</td>\n",
              "      <td>13</td>\n",
              "      <td>A</td>\n",
              "      <td>46.0</td>\n",
              "      <td>No Rotura</td>\n",
              "      <td>NaN</td>\n",
              "      <td>0</td>\n",
              "      <td>0</td>\n",
              "      <td>NaN</td>\n",
              "      <td>0</td>\n",
              "    </tr>\n",
              "    <tr>\n",
              "      <th>3</th>\n",
              "      <td>1/6/2015 0:00:00</td>\n",
              "      <td>24306</td>\n",
              "      <td>13</td>\n",
              "      <td>A</td>\n",
              "      <td>46.0</td>\n",
              "      <td>No Rotura</td>\n",
              "      <td>NaN</td>\n",
              "      <td>0</td>\n",
              "      <td>0</td>\n",
              "      <td>NaN</td>\n",
              "      <td>0</td>\n",
              "    </tr>\n",
              "    <tr>\n",
              "      <th>4</th>\n",
              "      <td>1/6/2015 0:00:00</td>\n",
              "      <td>27144</td>\n",
              "      <td>15</td>\n",
              "      <td>E</td>\n",
              "      <td>230.0</td>\n",
              "      <td>No Rotura</td>\n",
              "      <td>NaN</td>\n",
              "      <td>0</td>\n",
              "      <td>0</td>\n",
              "      <td>4064.0</td>\n",
              "      <td>0</td>\n",
              "    </tr>\n",
              "    <tr>\n",
              "      <th>...</th>\n",
              "      <td>...</td>\n",
              "      <td>...</td>\n",
              "      <td>...</td>\n",
              "      <td>...</td>\n",
              "      <td>...</td>\n",
              "      <td>...</td>\n",
              "      <td>...</td>\n",
              "      <td>...</td>\n",
              "      <td>...</td>\n",
              "      <td>...</td>\n",
              "      <td>...</td>\n",
              "    </tr>\n",
              "    <tr>\n",
              "      <th>4045017</th>\n",
              "      <td>30/9/2016 0:00:00</td>\n",
              "      <td>457416</td>\n",
              "      <td>1395</td>\n",
              "      <td>F</td>\n",
              "      <td>336.0</td>\n",
              "      <td>No Rotura</td>\n",
              "      <td>50,38</td>\n",
              "      <td>0</td>\n",
              "      <td>0</td>\n",
              "      <td>130.0</td>\n",
              "      <td>9</td>\n",
              "    </tr>\n",
              "    <tr>\n",
              "      <th>4045018</th>\n",
              "      <td>30/9/2016 0:00:00</td>\n",
              "      <td>457422</td>\n",
              "      <td>1080</td>\n",
              "      <td>F</td>\n",
              "      <td>336.0</td>\n",
              "      <td>Rotura</td>\n",
              "      <td>NaN</td>\n",
              "      <td>0</td>\n",
              "      <td>0</td>\n",
              "      <td>130.0</td>\n",
              "      <td>0</td>\n",
              "    </tr>\n",
              "    <tr>\n",
              "      <th>4045019</th>\n",
              "      <td>30/9/2016 0:00:00</td>\n",
              "      <td>458650</td>\n",
              "      <td>1385</td>\n",
              "      <td>K</td>\n",
              "      <td>340.0</td>\n",
              "      <td>No Rotura</td>\n",
              "      <td>NaN</td>\n",
              "      <td>0</td>\n",
              "      <td>0</td>\n",
              "      <td>126.0</td>\n",
              "      <td>0</td>\n",
              "    </tr>\n",
              "    <tr>\n",
              "      <th>4045020</th>\n",
              "      <td>30/9/2016 0:00:00</td>\n",
              "      <td>458660</td>\n",
              "      <td>1915</td>\n",
              "      <td>K</td>\n",
              "      <td>340.0</td>\n",
              "      <td>No Rotura</td>\n",
              "      <td>68,49</td>\n",
              "      <td>0</td>\n",
              "      <td>0</td>\n",
              "      <td>126.0</td>\n",
              "      <td>24</td>\n",
              "    </tr>\n",
              "    <tr>\n",
              "      <th>4045021</th>\n",
              "      <td>30/9/2016 0:00:00</td>\n",
              "      <td>458660</td>\n",
              "      <td>1915</td>\n",
              "      <td>K</td>\n",
              "      <td>340.0</td>\n",
              "      <td>No Rotura</td>\n",
              "      <td>68,49</td>\n",
              "      <td>0</td>\n",
              "      <td>0</td>\n",
              "      <td>126.0</td>\n",
              "      <td>24</td>\n",
              "    </tr>\n",
              "  </tbody>\n",
              "</table>\n",
              "<p>4045022 rows × 11 columns</p>\n",
              "</div>"
            ],
            "text/plain": [
              "                     fecha      id  ...  antiguedad unidades_vendidas\n",
              "0         1/6/2015 0:00:00   21972  ...      5241.0                 0\n",
              "1         1/6/2015 0:00:00   23910  ...      5241.0                 3\n",
              "2         1/6/2015 0:00:00   24306  ...         NaN                 0\n",
              "3         1/6/2015 0:00:00   24306  ...         NaN                 0\n",
              "4         1/6/2015 0:00:00   27144  ...      4064.0                 0\n",
              "...                    ...     ...  ...         ...               ...\n",
              "4045017  30/9/2016 0:00:00  457416  ...       130.0                 9\n",
              "4045018  30/9/2016 0:00:00  457422  ...       130.0                 0\n",
              "4045019  30/9/2016 0:00:00  458650  ...       126.0                 0\n",
              "4045020  30/9/2016 0:00:00  458660  ...       126.0                24\n",
              "4045021  30/9/2016 0:00:00  458660  ...       126.0                24\n",
              "\n",
              "[4045022 rows x 11 columns]"
            ]
          },
          "metadata": {
            "tags": []
          },
          "execution_count": 18
        }
      ]
    },
    {
      "cell_type": "markdown",
      "metadata": {
        "id": "-u_h0A-YUvqF"
      },
      "source": [
        "###Desde Google Colab (Ficheros en Google drive previamente)"
      ]
    },
    {
      "cell_type": "code",
      "metadata": {
        "colab": {
          "base_uri": "https://localhost:8080/"
        },
        "id": "UipnMmwMUvqH",
        "outputId": "2b9f3194-dbbc-43b1-d977-f2581d87a6cf"
      },
      "source": [
        "#Montar unidad de Google Drive\r\n",
        "drive.mount('/gdrive')"
      ],
      "execution_count": 3,
      "outputs": [
        {
          "output_type": "stream",
          "text": [
            "Mounted at /gdrive\n"
          ],
          "name": "stdout"
        }
      ]
    },
    {
      "cell_type": "code",
      "metadata": {
        "colab": {
          "base_uri": "https://localhost:8080/"
        },
        "id": "A1L0a_vgUvqJ",
        "outputId": "4323a584-259c-4079-cbd5-af217fa3d4f6"
      },
      "source": [
        "#Cambiar al directorio de drive donde tengamos los datesets\r\n",
        "!cp '/gdrive/My Drive/Datathon Cajamar 2021/Data/Modelar_Estimar_Limpio.csv' Modelar_Estimar_Limpio.csv\r\n",
        "!ls -l | grep csv"
      ],
      "execution_count": 4,
      "outputs": [
        {
          "output_type": "stream",
          "text": [
            "-rw------- 1 root root 126117692 Mar 17 16:11 Modelar_Estimar_Limpio.csv\n"
          ],
          "name": "stdout"
        }
      ]
    },
    {
      "cell_type": "code",
      "metadata": {
        "colab": {
          "base_uri": "https://localhost:8080/",
          "height": 461
        },
        "id": "hZUwp9YhUvqK",
        "outputId": "32050a8b-98ca-4105-c1f1-d3fb0ea93be0"
      },
      "source": [
        "df = pd.read_csv('Modelar_Estimar_Limpio.csv', sep=',', index_col=0)\r\n",
        "df.reset_index(drop=True, inplace=True)\r\n",
        "df"
      ],
      "execution_count": 5,
      "outputs": [
        {
          "output_type": "stream",
          "text": [
            "/usr/local/lib/python3.7/dist-packages/numpy/lib/arraysetops.py:580: FutureWarning: elementwise comparison failed; returning scalar instead, but in the future will perform elementwise comparison\n",
            "  mask |= (ar1 == a)\n"
          ],
          "name": "stderr"
        },
        {
          "output_type": "execute_result",
          "data": {
            "text/html": [
              "<div>\n",
              "<style scoped>\n",
              "    .dataframe tbody tr th:only-of-type {\n",
              "        vertical-align: middle;\n",
              "    }\n",
              "\n",
              "    .dataframe tbody tr th {\n",
              "        vertical-align: top;\n",
              "    }\n",
              "\n",
              "    .dataframe thead th {\n",
              "        text-align: right;\n",
              "    }\n",
              "</style>\n",
              "<table border=\"1\" class=\"dataframe\">\n",
              "  <thead>\n",
              "    <tr style=\"text-align: right;\">\n",
              "      <th></th>\n",
              "      <th>fecha</th>\n",
              "      <th>dia_semana</th>\n",
              "      <th>id</th>\n",
              "      <th>visitas</th>\n",
              "      <th>categoria_uno</th>\n",
              "      <th>categoria_dos</th>\n",
              "      <th>estado</th>\n",
              "      <th>precio</th>\n",
              "      <th>dia_atipico</th>\n",
              "      <th>campaña</th>\n",
              "      <th>antiguedad</th>\n",
              "      <th>unidades_vendidas</th>\n",
              "    </tr>\n",
              "  </thead>\n",
              "  <tbody>\n",
              "    <tr>\n",
              "      <th>0</th>\n",
              "      <td>2015-06-06</td>\n",
              "      <td>5</td>\n",
              "      <td>21972</td>\n",
              "      <td>1</td>\n",
              "      <td>C</td>\n",
              "      <td>75</td>\n",
              "      <td>No Rotura</td>\n",
              "      <td>5.84</td>\n",
              "      <td>0</td>\n",
              "      <td>0</td>\n",
              "      <td>5241</td>\n",
              "      <td>3.0</td>\n",
              "    </tr>\n",
              "    <tr>\n",
              "      <th>1</th>\n",
              "      <td>2015-06-07</td>\n",
              "      <td>6</td>\n",
              "      <td>21972</td>\n",
              "      <td>1</td>\n",
              "      <td>C</td>\n",
              "      <td>75</td>\n",
              "      <td>No Rotura</td>\n",
              "      <td>5.84</td>\n",
              "      <td>0</td>\n",
              "      <td>0</td>\n",
              "      <td>5241</td>\n",
              "      <td>0.0</td>\n",
              "    </tr>\n",
              "    <tr>\n",
              "      <th>2</th>\n",
              "      <td>2015-06-08</td>\n",
              "      <td>0</td>\n",
              "      <td>21972</td>\n",
              "      <td>1</td>\n",
              "      <td>C</td>\n",
              "      <td>75</td>\n",
              "      <td>No Rotura</td>\n",
              "      <td>5.84</td>\n",
              "      <td>0</td>\n",
              "      <td>0</td>\n",
              "      <td>5241</td>\n",
              "      <td>3.0</td>\n",
              "    </tr>\n",
              "    <tr>\n",
              "      <th>3</th>\n",
              "      <td>2015-06-09</td>\n",
              "      <td>1</td>\n",
              "      <td>21972</td>\n",
              "      <td>1</td>\n",
              "      <td>C</td>\n",
              "      <td>75</td>\n",
              "      <td>No Rotura</td>\n",
              "      <td>5.84</td>\n",
              "      <td>0</td>\n",
              "      <td>0</td>\n",
              "      <td>5241</td>\n",
              "      <td>0.0</td>\n",
              "    </tr>\n",
              "    <tr>\n",
              "      <th>4</th>\n",
              "      <td>2015-06-10</td>\n",
              "      <td>2</td>\n",
              "      <td>21972</td>\n",
              "      <td>0</td>\n",
              "      <td>C</td>\n",
              "      <td>75</td>\n",
              "      <td>No Rotura</td>\n",
              "      <td>5.84</td>\n",
              "      <td>0</td>\n",
              "      <td>0</td>\n",
              "      <td>5241</td>\n",
              "      <td>0.0</td>\n",
              "    </tr>\n",
              "    <tr>\n",
              "      <th>...</th>\n",
              "      <td>...</td>\n",
              "      <td>...</td>\n",
              "      <td>...</td>\n",
              "      <td>...</td>\n",
              "      <td>...</td>\n",
              "      <td>...</td>\n",
              "      <td>...</td>\n",
              "      <td>...</td>\n",
              "      <td>...</td>\n",
              "      <td>...</td>\n",
              "      <td>...</td>\n",
              "      <td>...</td>\n",
              "    </tr>\n",
              "    <tr>\n",
              "      <th>1982464</th>\n",
              "      <td>2016-12-26</td>\n",
              "      <td>0</td>\n",
              "      <td>458660</td>\n",
              "      <td>1085</td>\n",
              "      <td>K</td>\n",
              "      <td>340</td>\n",
              "      <td>No Rotura</td>\n",
              "      <td>70.85</td>\n",
              "      <td>1</td>\n",
              "      <td>0</td>\n",
              "      <td>126</td>\n",
              "      <td>NaN</td>\n",
              "    </tr>\n",
              "    <tr>\n",
              "      <th>1982465</th>\n",
              "      <td>2016-12-27</td>\n",
              "      <td>1</td>\n",
              "      <td>458660</td>\n",
              "      <td>965</td>\n",
              "      <td>K</td>\n",
              "      <td>340</td>\n",
              "      <td>No Rotura</td>\n",
              "      <td>70.85</td>\n",
              "      <td>1</td>\n",
              "      <td>0</td>\n",
              "      <td>126</td>\n",
              "      <td>NaN</td>\n",
              "    </tr>\n",
              "    <tr>\n",
              "      <th>1982466</th>\n",
              "      <td>2016-12-28</td>\n",
              "      <td>2</td>\n",
              "      <td>458660</td>\n",
              "      <td>1005</td>\n",
              "      <td>K</td>\n",
              "      <td>340</td>\n",
              "      <td>No Rotura</td>\n",
              "      <td>70.85</td>\n",
              "      <td>1</td>\n",
              "      <td>0</td>\n",
              "      <td>126</td>\n",
              "      <td>NaN</td>\n",
              "    </tr>\n",
              "    <tr>\n",
              "      <th>1982467</th>\n",
              "      <td>2016-12-29</td>\n",
              "      <td>3</td>\n",
              "      <td>458660</td>\n",
              "      <td>745</td>\n",
              "      <td>K</td>\n",
              "      <td>340</td>\n",
              "      <td>No Rotura</td>\n",
              "      <td>70.85</td>\n",
              "      <td>1</td>\n",
              "      <td>0</td>\n",
              "      <td>126</td>\n",
              "      <td>NaN</td>\n",
              "    </tr>\n",
              "    <tr>\n",
              "      <th>1982468</th>\n",
              "      <td>2016-12-30</td>\n",
              "      <td>4</td>\n",
              "      <td>458660</td>\n",
              "      <td>1225</td>\n",
              "      <td>K</td>\n",
              "      <td>340</td>\n",
              "      <td>No Rotura</td>\n",
              "      <td>70.85</td>\n",
              "      <td>1</td>\n",
              "      <td>0</td>\n",
              "      <td>126</td>\n",
              "      <td>NaN</td>\n",
              "    </tr>\n",
              "  </tbody>\n",
              "</table>\n",
              "<p>1982469 rows × 12 columns</p>\n",
              "</div>"
            ],
            "text/plain": [
              "              fecha  dia_semana      id  visitas categoria_uno  categoria_dos  \\\n",
              "0        2015-06-06           5   21972        1             C             75   \n",
              "1        2015-06-07           6   21972        1             C             75   \n",
              "2        2015-06-08           0   21972        1             C             75   \n",
              "3        2015-06-09           1   21972        1             C             75   \n",
              "4        2015-06-10           2   21972        0             C             75   \n",
              "...             ...         ...     ...      ...           ...            ...   \n",
              "1982464  2016-12-26           0  458660     1085             K            340   \n",
              "1982465  2016-12-27           1  458660      965             K            340   \n",
              "1982466  2016-12-28           2  458660     1005             K            340   \n",
              "1982467  2016-12-29           3  458660      745             K            340   \n",
              "1982468  2016-12-30           4  458660     1225             K            340   \n",
              "\n",
              "            estado  precio  dia_atipico  campaña  antiguedad  \\\n",
              "0        No Rotura    5.84            0        0        5241   \n",
              "1        No Rotura    5.84            0        0        5241   \n",
              "2        No Rotura    5.84            0        0        5241   \n",
              "3        No Rotura    5.84            0        0        5241   \n",
              "4        No Rotura    5.84            0        0        5241   \n",
              "...            ...     ...          ...      ...         ...   \n",
              "1982464  No Rotura   70.85            1        0         126   \n",
              "1982465  No Rotura   70.85            1        0         126   \n",
              "1982466  No Rotura   70.85            1        0         126   \n",
              "1982467  No Rotura   70.85            1        0         126   \n",
              "1982468  No Rotura   70.85            1        0         126   \n",
              "\n",
              "         unidades_vendidas  \n",
              "0                      3.0  \n",
              "1                      0.0  \n",
              "2                      3.0  \n",
              "3                      0.0  \n",
              "4                      0.0  \n",
              "...                    ...  \n",
              "1982464                NaN  \n",
              "1982465                NaN  \n",
              "1982466                NaN  \n",
              "1982467                NaN  \n",
              "1982468                NaN  \n",
              "\n",
              "[1982469 rows x 12 columns]"
            ]
          },
          "metadata": {
            "tags": []
          },
          "execution_count": 5
        }
      ]
    },
    {
      "cell_type": "markdown",
      "metadata": {
        "id": "SCsYD7PQt_2q"
      },
      "source": [
        "#Feature Engineering"
      ]
    },
    {
      "cell_type": "markdown",
      "metadata": {
        "id": "6_NC4K18fLSF"
      },
      "source": [
        "Se transformarn y se crean un conjuto de nuevas variables que se usarán para mejorar la predicción"
      ]
    },
    {
      "cell_type": "markdown",
      "metadata": {
        "id": "yrImfXAVZ_cc"
      },
      "source": [
        "Se coopia el dataset a los que usaremos para FE y procesado, para no tocar el original"
      ]
    },
    {
      "cell_type": "code",
      "metadata": {
        "id": "4AQnV4dfaEWC"
      },
      "source": [
        "df2 = df.copy(deep=True)\r\n"
      ],
      "execution_count": 6,
      "outputs": []
    },
    {
      "cell_type": "code",
      "metadata": {
        "colab": {
          "base_uri": "https://localhost:8080/"
        },
        "id": "g2Nb0y46mmeP",
        "outputId": "058ef360-459d-4026-eedc-927e3106e05e"
      },
      "source": [
        "df2.info()"
      ],
      "execution_count": 7,
      "outputs": [
        {
          "output_type": "stream",
          "text": [
            "<class 'pandas.core.frame.DataFrame'>\n",
            "RangeIndex: 1982469 entries, 0 to 1982468\n",
            "Data columns (total 12 columns):\n",
            " #   Column             Dtype  \n",
            "---  ------             -----  \n",
            " 0   fecha              object \n",
            " 1   dia_semana         int64  \n",
            " 2   id                 int64  \n",
            " 3   visitas            int64  \n",
            " 4   categoria_uno      object \n",
            " 5   categoria_dos      int64  \n",
            " 6   estado             object \n",
            " 7   precio             float64\n",
            " 8   dia_atipico        int64  \n",
            " 9   campaña            int64  \n",
            " 10  antiguedad         int64  \n",
            " 11  unidades_vendidas  float64\n",
            "dtypes: float64(2), int64(7), object(3)\n",
            "memory usage: 181.5+ MB\n"
          ],
          "name": "stdout"
        }
      ]
    },
    {
      "cell_type": "markdown",
      "metadata": {
        "id": "zxb5C86CQMGF"
      },
      "source": [
        "###Dividir unidades_vendidas entre 3"
      ]
    },
    {
      "cell_type": "markdown",
      "metadata": {
        "id": "J0QCko1xgEsz"
      },
      "source": [
        "Como unidadees_vendidas siempre es múltiplo de 3, se divide para mejorar la precisión. Después de predecir habra que multiplicar por 3"
      ]
    },
    {
      "cell_type": "code",
      "metadata": {
        "colab": {
          "base_uri": "https://localhost:8080/",
          "height": 0
        },
        "id": "FnhEA06sQPjK",
        "outputId": "62a3e7cd-b0a3-412f-cbe5-370ab663f2c7"
      },
      "source": [
        "df2['unidades_vendidas'] = df2['unidades_vendidas']/3\r\n",
        "#df2['unidades_vendidas'] = df2['unidades_vendidas'].astype('int')\r\n",
        "df2"
      ],
      "execution_count": 8,
      "outputs": [
        {
          "output_type": "execute_result",
          "data": {
            "text/html": [
              "<div>\n",
              "<style scoped>\n",
              "    .dataframe tbody tr th:only-of-type {\n",
              "        vertical-align: middle;\n",
              "    }\n",
              "\n",
              "    .dataframe tbody tr th {\n",
              "        vertical-align: top;\n",
              "    }\n",
              "\n",
              "    .dataframe thead th {\n",
              "        text-align: right;\n",
              "    }\n",
              "</style>\n",
              "<table border=\"1\" class=\"dataframe\">\n",
              "  <thead>\n",
              "    <tr style=\"text-align: right;\">\n",
              "      <th></th>\n",
              "      <th>fecha</th>\n",
              "      <th>dia_semana</th>\n",
              "      <th>id</th>\n",
              "      <th>visitas</th>\n",
              "      <th>categoria_uno</th>\n",
              "      <th>categoria_dos</th>\n",
              "      <th>estado</th>\n",
              "      <th>precio</th>\n",
              "      <th>dia_atipico</th>\n",
              "      <th>campaña</th>\n",
              "      <th>antiguedad</th>\n",
              "      <th>unidades_vendidas</th>\n",
              "    </tr>\n",
              "  </thead>\n",
              "  <tbody>\n",
              "    <tr>\n",
              "      <th>0</th>\n",
              "      <td>2015-06-06</td>\n",
              "      <td>5</td>\n",
              "      <td>21972</td>\n",
              "      <td>1</td>\n",
              "      <td>C</td>\n",
              "      <td>75</td>\n",
              "      <td>No Rotura</td>\n",
              "      <td>5.84</td>\n",
              "      <td>0</td>\n",
              "      <td>0</td>\n",
              "      <td>5241</td>\n",
              "      <td>1.0</td>\n",
              "    </tr>\n",
              "    <tr>\n",
              "      <th>1</th>\n",
              "      <td>2015-06-07</td>\n",
              "      <td>6</td>\n",
              "      <td>21972</td>\n",
              "      <td>1</td>\n",
              "      <td>C</td>\n",
              "      <td>75</td>\n",
              "      <td>No Rotura</td>\n",
              "      <td>5.84</td>\n",
              "      <td>0</td>\n",
              "      <td>0</td>\n",
              "      <td>5241</td>\n",
              "      <td>0.0</td>\n",
              "    </tr>\n",
              "    <tr>\n",
              "      <th>2</th>\n",
              "      <td>2015-06-08</td>\n",
              "      <td>0</td>\n",
              "      <td>21972</td>\n",
              "      <td>1</td>\n",
              "      <td>C</td>\n",
              "      <td>75</td>\n",
              "      <td>No Rotura</td>\n",
              "      <td>5.84</td>\n",
              "      <td>0</td>\n",
              "      <td>0</td>\n",
              "      <td>5241</td>\n",
              "      <td>1.0</td>\n",
              "    </tr>\n",
              "    <tr>\n",
              "      <th>3</th>\n",
              "      <td>2015-06-09</td>\n",
              "      <td>1</td>\n",
              "      <td>21972</td>\n",
              "      <td>1</td>\n",
              "      <td>C</td>\n",
              "      <td>75</td>\n",
              "      <td>No Rotura</td>\n",
              "      <td>5.84</td>\n",
              "      <td>0</td>\n",
              "      <td>0</td>\n",
              "      <td>5241</td>\n",
              "      <td>0.0</td>\n",
              "    </tr>\n",
              "    <tr>\n",
              "      <th>4</th>\n",
              "      <td>2015-06-10</td>\n",
              "      <td>2</td>\n",
              "      <td>21972</td>\n",
              "      <td>0</td>\n",
              "      <td>C</td>\n",
              "      <td>75</td>\n",
              "      <td>No Rotura</td>\n",
              "      <td>5.84</td>\n",
              "      <td>0</td>\n",
              "      <td>0</td>\n",
              "      <td>5241</td>\n",
              "      <td>0.0</td>\n",
              "    </tr>\n",
              "    <tr>\n",
              "      <th>...</th>\n",
              "      <td>...</td>\n",
              "      <td>...</td>\n",
              "      <td>...</td>\n",
              "      <td>...</td>\n",
              "      <td>...</td>\n",
              "      <td>...</td>\n",
              "      <td>...</td>\n",
              "      <td>...</td>\n",
              "      <td>...</td>\n",
              "      <td>...</td>\n",
              "      <td>...</td>\n",
              "      <td>...</td>\n",
              "    </tr>\n",
              "    <tr>\n",
              "      <th>1982464</th>\n",
              "      <td>2016-12-26</td>\n",
              "      <td>0</td>\n",
              "      <td>458660</td>\n",
              "      <td>1085</td>\n",
              "      <td>K</td>\n",
              "      <td>340</td>\n",
              "      <td>No Rotura</td>\n",
              "      <td>70.85</td>\n",
              "      <td>1</td>\n",
              "      <td>0</td>\n",
              "      <td>126</td>\n",
              "      <td>NaN</td>\n",
              "    </tr>\n",
              "    <tr>\n",
              "      <th>1982465</th>\n",
              "      <td>2016-12-27</td>\n",
              "      <td>1</td>\n",
              "      <td>458660</td>\n",
              "      <td>965</td>\n",
              "      <td>K</td>\n",
              "      <td>340</td>\n",
              "      <td>No Rotura</td>\n",
              "      <td>70.85</td>\n",
              "      <td>1</td>\n",
              "      <td>0</td>\n",
              "      <td>126</td>\n",
              "      <td>NaN</td>\n",
              "    </tr>\n",
              "    <tr>\n",
              "      <th>1982466</th>\n",
              "      <td>2016-12-28</td>\n",
              "      <td>2</td>\n",
              "      <td>458660</td>\n",
              "      <td>1005</td>\n",
              "      <td>K</td>\n",
              "      <td>340</td>\n",
              "      <td>No Rotura</td>\n",
              "      <td>70.85</td>\n",
              "      <td>1</td>\n",
              "      <td>0</td>\n",
              "      <td>126</td>\n",
              "      <td>NaN</td>\n",
              "    </tr>\n",
              "    <tr>\n",
              "      <th>1982467</th>\n",
              "      <td>2016-12-29</td>\n",
              "      <td>3</td>\n",
              "      <td>458660</td>\n",
              "      <td>745</td>\n",
              "      <td>K</td>\n",
              "      <td>340</td>\n",
              "      <td>No Rotura</td>\n",
              "      <td>70.85</td>\n",
              "      <td>1</td>\n",
              "      <td>0</td>\n",
              "      <td>126</td>\n",
              "      <td>NaN</td>\n",
              "    </tr>\n",
              "    <tr>\n",
              "      <th>1982468</th>\n",
              "      <td>2016-12-30</td>\n",
              "      <td>4</td>\n",
              "      <td>458660</td>\n",
              "      <td>1225</td>\n",
              "      <td>K</td>\n",
              "      <td>340</td>\n",
              "      <td>No Rotura</td>\n",
              "      <td>70.85</td>\n",
              "      <td>1</td>\n",
              "      <td>0</td>\n",
              "      <td>126</td>\n",
              "      <td>NaN</td>\n",
              "    </tr>\n",
              "  </tbody>\n",
              "</table>\n",
              "<p>1982469 rows × 12 columns</p>\n",
              "</div>"
            ],
            "text/plain": [
              "              fecha  dia_semana      id  visitas categoria_uno  categoria_dos  \\\n",
              "0        2015-06-06           5   21972        1             C             75   \n",
              "1        2015-06-07           6   21972        1             C             75   \n",
              "2        2015-06-08           0   21972        1             C             75   \n",
              "3        2015-06-09           1   21972        1             C             75   \n",
              "4        2015-06-10           2   21972        0             C             75   \n",
              "...             ...         ...     ...      ...           ...            ...   \n",
              "1982464  2016-12-26           0  458660     1085             K            340   \n",
              "1982465  2016-12-27           1  458660      965             K            340   \n",
              "1982466  2016-12-28           2  458660     1005             K            340   \n",
              "1982467  2016-12-29           3  458660      745             K            340   \n",
              "1982468  2016-12-30           4  458660     1225             K            340   \n",
              "\n",
              "            estado  precio  dia_atipico  campaña  antiguedad  \\\n",
              "0        No Rotura    5.84            0        0        5241   \n",
              "1        No Rotura    5.84            0        0        5241   \n",
              "2        No Rotura    5.84            0        0        5241   \n",
              "3        No Rotura    5.84            0        0        5241   \n",
              "4        No Rotura    5.84            0        0        5241   \n",
              "...            ...     ...          ...      ...         ...   \n",
              "1982464  No Rotura   70.85            1        0         126   \n",
              "1982465  No Rotura   70.85            1        0         126   \n",
              "1982466  No Rotura   70.85            1        0         126   \n",
              "1982467  No Rotura   70.85            1        0         126   \n",
              "1982468  No Rotura   70.85            1        0         126   \n",
              "\n",
              "         unidades_vendidas  \n",
              "0                      1.0  \n",
              "1                      0.0  \n",
              "2                      1.0  \n",
              "3                      0.0  \n",
              "4                      0.0  \n",
              "...                    ...  \n",
              "1982464                NaN  \n",
              "1982465                NaN  \n",
              "1982466                NaN  \n",
              "1982467                NaN  \n",
              "1982468                NaN  \n",
              "\n",
              "[1982469 rows x 12 columns]"
            ]
          },
          "metadata": {
            "tags": []
          },
          "execution_count": 8
        }
      ]
    },
    {
      "cell_type": "markdown",
      "metadata": {
        "id": "956Uivfqshb5"
      },
      "source": [
        "https://www.kaggle.com/anshuls235/time-series-forecasting-eda-fe-modelling"
      ]
    },
    {
      "cell_type": "markdown",
      "metadata": {
        "id": "MYOzhO8XzxPq"
      },
      "source": [
        "###Añadir datos de mes, semana"
      ]
    },
    {
      "cell_type": "markdown",
      "metadata": {
        "id": "cip6O5k2WpKh"
      },
      "source": [
        "Convertir fecha a datetime"
      ]
    },
    {
      "cell_type": "code",
      "metadata": {
        "id": "SU5n8RXL4MMF",
        "colab": {
          "base_uri": "https://localhost:8080/",
          "height": 0
        },
        "outputId": "487a3685-47df-43fa-a634-07373769cd7c"
      },
      "source": [
        "df2['fecha'] = pd.to_datetime(df2['fecha'])\n",
        "df2['mes'] = df2['fecha'].dt.month\n",
        "df2['semana'] = df2['fecha'].dt.weekofyear\n",
        "#df2['dia_semana'] = df2['fecha'].dt.weekday\n",
        "df2.head()"
      ],
      "execution_count": 9,
      "outputs": [
        {
          "output_type": "stream",
          "text": [
            "/usr/local/lib/python3.7/dist-packages/ipykernel_launcher.py:3: FutureWarning: Series.dt.weekofyear and Series.dt.week have been deprecated.  Please use Series.dt.isocalendar().week instead.\n",
            "  This is separate from the ipykernel package so we can avoid doing imports until\n"
          ],
          "name": "stderr"
        },
        {
          "output_type": "execute_result",
          "data": {
            "text/html": [
              "<div>\n",
              "<style scoped>\n",
              "    .dataframe tbody tr th:only-of-type {\n",
              "        vertical-align: middle;\n",
              "    }\n",
              "\n",
              "    .dataframe tbody tr th {\n",
              "        vertical-align: top;\n",
              "    }\n",
              "\n",
              "    .dataframe thead th {\n",
              "        text-align: right;\n",
              "    }\n",
              "</style>\n",
              "<table border=\"1\" class=\"dataframe\">\n",
              "  <thead>\n",
              "    <tr style=\"text-align: right;\">\n",
              "      <th></th>\n",
              "      <th>fecha</th>\n",
              "      <th>dia_semana</th>\n",
              "      <th>id</th>\n",
              "      <th>visitas</th>\n",
              "      <th>categoria_uno</th>\n",
              "      <th>categoria_dos</th>\n",
              "      <th>estado</th>\n",
              "      <th>precio</th>\n",
              "      <th>dia_atipico</th>\n",
              "      <th>campaña</th>\n",
              "      <th>antiguedad</th>\n",
              "      <th>unidades_vendidas</th>\n",
              "      <th>mes</th>\n",
              "      <th>semana</th>\n",
              "    </tr>\n",
              "  </thead>\n",
              "  <tbody>\n",
              "    <tr>\n",
              "      <th>0</th>\n",
              "      <td>2015-06-06</td>\n",
              "      <td>5</td>\n",
              "      <td>21972</td>\n",
              "      <td>1</td>\n",
              "      <td>C</td>\n",
              "      <td>75</td>\n",
              "      <td>No Rotura</td>\n",
              "      <td>5.84</td>\n",
              "      <td>0</td>\n",
              "      <td>0</td>\n",
              "      <td>5241</td>\n",
              "      <td>1.0</td>\n",
              "      <td>6</td>\n",
              "      <td>23</td>\n",
              "    </tr>\n",
              "    <tr>\n",
              "      <th>1</th>\n",
              "      <td>2015-06-07</td>\n",
              "      <td>6</td>\n",
              "      <td>21972</td>\n",
              "      <td>1</td>\n",
              "      <td>C</td>\n",
              "      <td>75</td>\n",
              "      <td>No Rotura</td>\n",
              "      <td>5.84</td>\n",
              "      <td>0</td>\n",
              "      <td>0</td>\n",
              "      <td>5241</td>\n",
              "      <td>0.0</td>\n",
              "      <td>6</td>\n",
              "      <td>23</td>\n",
              "    </tr>\n",
              "    <tr>\n",
              "      <th>2</th>\n",
              "      <td>2015-06-08</td>\n",
              "      <td>0</td>\n",
              "      <td>21972</td>\n",
              "      <td>1</td>\n",
              "      <td>C</td>\n",
              "      <td>75</td>\n",
              "      <td>No Rotura</td>\n",
              "      <td>5.84</td>\n",
              "      <td>0</td>\n",
              "      <td>0</td>\n",
              "      <td>5241</td>\n",
              "      <td>1.0</td>\n",
              "      <td>6</td>\n",
              "      <td>24</td>\n",
              "    </tr>\n",
              "    <tr>\n",
              "      <th>3</th>\n",
              "      <td>2015-06-09</td>\n",
              "      <td>1</td>\n",
              "      <td>21972</td>\n",
              "      <td>1</td>\n",
              "      <td>C</td>\n",
              "      <td>75</td>\n",
              "      <td>No Rotura</td>\n",
              "      <td>5.84</td>\n",
              "      <td>0</td>\n",
              "      <td>0</td>\n",
              "      <td>5241</td>\n",
              "      <td>0.0</td>\n",
              "      <td>6</td>\n",
              "      <td>24</td>\n",
              "    </tr>\n",
              "    <tr>\n",
              "      <th>4</th>\n",
              "      <td>2015-06-10</td>\n",
              "      <td>2</td>\n",
              "      <td>21972</td>\n",
              "      <td>0</td>\n",
              "      <td>C</td>\n",
              "      <td>75</td>\n",
              "      <td>No Rotura</td>\n",
              "      <td>5.84</td>\n",
              "      <td>0</td>\n",
              "      <td>0</td>\n",
              "      <td>5241</td>\n",
              "      <td>0.0</td>\n",
              "      <td>6</td>\n",
              "      <td>24</td>\n",
              "    </tr>\n",
              "  </tbody>\n",
              "</table>\n",
              "</div>"
            ],
            "text/plain": [
              "       fecha  dia_semana     id  visitas categoria_uno  categoria_dos  \\\n",
              "0 2015-06-06           5  21972        1             C             75   \n",
              "1 2015-06-07           6  21972        1             C             75   \n",
              "2 2015-06-08           0  21972        1             C             75   \n",
              "3 2015-06-09           1  21972        1             C             75   \n",
              "4 2015-06-10           2  21972        0             C             75   \n",
              "\n",
              "      estado  precio  dia_atipico  campaña  antiguedad  unidades_vendidas  \\\n",
              "0  No Rotura    5.84            0        0        5241                1.0   \n",
              "1  No Rotura    5.84            0        0        5241                0.0   \n",
              "2  No Rotura    5.84            0        0        5241                1.0   \n",
              "3  No Rotura    5.84            0        0        5241                0.0   \n",
              "4  No Rotura    5.84            0        0        5241                0.0   \n",
              "\n",
              "   mes  semana  \n",
              "0    6      23  \n",
              "1    6      23  \n",
              "2    6      24  \n",
              "3    6      24  \n",
              "4    6      24  "
            ]
          },
          "metadata": {
            "tags": []
          },
          "execution_count": 9
        }
      ]
    },
    {
      "cell_type": "markdown",
      "metadata": {
        "id": "Z26pHY0-5ZmJ"
      },
      "source": [
        "###Añade Diffs: Precio"
      ]
    },
    {
      "cell_type": "markdown",
      "metadata": {
        "id": "Q8WrHqMqg0pO"
      },
      "source": [
        "La diferencia de precio entre el valor actual y otros en el pasado"
      ]
    },
    {
      "cell_type": "code",
      "metadata": {
        "id": "Pgh1-WLD5ZmM",
        "colab": {
          "base_uri": "https://localhost:8080/"
        },
        "outputId": "a6dd91fe-b8a4-4117-8948-edf0134f024d"
      },
      "source": [
        "#Introduce Diff\r\n",
        "diffs = [1,21]\r\n",
        "for diff in diffs:\r\n",
        "    df2['precio_diff_'+str(diff)] = df2.groupby(['id'],as_index=False)['precio'].diff(diff).astype(np.float32)\r\n",
        "df2.columns"
      ],
      "execution_count": 10,
      "outputs": [
        {
          "output_type": "execute_result",
          "data": {
            "text/plain": [
              "Index(['fecha', 'dia_semana', 'id', 'visitas', 'categoria_uno',\n",
              "       'categoria_dos', 'estado', 'precio', 'dia_atipico', 'campaña',\n",
              "       'antiguedad', 'unidades_vendidas', 'mes', 'semana', 'precio_diff_1',\n",
              "       'precio_diff_21'],\n",
              "      dtype='object')"
            ]
          },
          "metadata": {
            "tags": []
          },
          "execution_count": 10
        }
      ]
    },
    {
      "cell_type": "markdown",
      "metadata": {
        "id": "O0boRdDOR5fi"
      },
      "source": [
        "###Labelencoding"
      ]
    },
    {
      "cell_type": "markdown",
      "metadata": {
        "id": "aN-OBhgahEsk"
      },
      "source": [
        "Para las variables categóricas: categoria_uno y estado"
      ]
    },
    {
      "cell_type": "code",
      "metadata": {
        "colab": {
          "base_uri": "https://localhost:8080/",
          "height": 0
        },
        "id": "GLYCetaf9POb",
        "outputId": "1ac8c155-ece7-4dd5-eccf-12acba799306"
      },
      "source": [
        "labelencoder = LabelEncoder()\r\n",
        "df2['categoria_uno'] = labelencoder.fit_transform(df2['categoria_uno'])\r\n",
        "df2['estado'] = labelencoder.fit_transform(df2['estado'])\r\n",
        "df2"
      ],
      "execution_count": 11,
      "outputs": [
        {
          "output_type": "execute_result",
          "data": {
            "text/html": [
              "<div>\n",
              "<style scoped>\n",
              "    .dataframe tbody tr th:only-of-type {\n",
              "        vertical-align: middle;\n",
              "    }\n",
              "\n",
              "    .dataframe tbody tr th {\n",
              "        vertical-align: top;\n",
              "    }\n",
              "\n",
              "    .dataframe thead th {\n",
              "        text-align: right;\n",
              "    }\n",
              "</style>\n",
              "<table border=\"1\" class=\"dataframe\">\n",
              "  <thead>\n",
              "    <tr style=\"text-align: right;\">\n",
              "      <th></th>\n",
              "      <th>fecha</th>\n",
              "      <th>dia_semana</th>\n",
              "      <th>id</th>\n",
              "      <th>visitas</th>\n",
              "      <th>categoria_uno</th>\n",
              "      <th>categoria_dos</th>\n",
              "      <th>estado</th>\n",
              "      <th>precio</th>\n",
              "      <th>dia_atipico</th>\n",
              "      <th>campaña</th>\n",
              "      <th>antiguedad</th>\n",
              "      <th>unidades_vendidas</th>\n",
              "      <th>mes</th>\n",
              "      <th>semana</th>\n",
              "      <th>precio_diff_1</th>\n",
              "      <th>precio_diff_21</th>\n",
              "    </tr>\n",
              "  </thead>\n",
              "  <tbody>\n",
              "    <tr>\n",
              "      <th>0</th>\n",
              "      <td>2015-06-06</td>\n",
              "      <td>5</td>\n",
              "      <td>21972</td>\n",
              "      <td>1</td>\n",
              "      <td>2</td>\n",
              "      <td>75</td>\n",
              "      <td>0</td>\n",
              "      <td>5.84</td>\n",
              "      <td>0</td>\n",
              "      <td>0</td>\n",
              "      <td>5241</td>\n",
              "      <td>1.0</td>\n",
              "      <td>6</td>\n",
              "      <td>23</td>\n",
              "      <td>NaN</td>\n",
              "      <td>NaN</td>\n",
              "    </tr>\n",
              "    <tr>\n",
              "      <th>1</th>\n",
              "      <td>2015-06-07</td>\n",
              "      <td>6</td>\n",
              "      <td>21972</td>\n",
              "      <td>1</td>\n",
              "      <td>2</td>\n",
              "      <td>75</td>\n",
              "      <td>0</td>\n",
              "      <td>5.84</td>\n",
              "      <td>0</td>\n",
              "      <td>0</td>\n",
              "      <td>5241</td>\n",
              "      <td>0.0</td>\n",
              "      <td>6</td>\n",
              "      <td>23</td>\n",
              "      <td>0.0</td>\n",
              "      <td>NaN</td>\n",
              "    </tr>\n",
              "    <tr>\n",
              "      <th>2</th>\n",
              "      <td>2015-06-08</td>\n",
              "      <td>0</td>\n",
              "      <td>21972</td>\n",
              "      <td>1</td>\n",
              "      <td>2</td>\n",
              "      <td>75</td>\n",
              "      <td>0</td>\n",
              "      <td>5.84</td>\n",
              "      <td>0</td>\n",
              "      <td>0</td>\n",
              "      <td>5241</td>\n",
              "      <td>1.0</td>\n",
              "      <td>6</td>\n",
              "      <td>24</td>\n",
              "      <td>0.0</td>\n",
              "      <td>NaN</td>\n",
              "    </tr>\n",
              "    <tr>\n",
              "      <th>3</th>\n",
              "      <td>2015-06-09</td>\n",
              "      <td>1</td>\n",
              "      <td>21972</td>\n",
              "      <td>1</td>\n",
              "      <td>2</td>\n",
              "      <td>75</td>\n",
              "      <td>0</td>\n",
              "      <td>5.84</td>\n",
              "      <td>0</td>\n",
              "      <td>0</td>\n",
              "      <td>5241</td>\n",
              "      <td>0.0</td>\n",
              "      <td>6</td>\n",
              "      <td>24</td>\n",
              "      <td>0.0</td>\n",
              "      <td>NaN</td>\n",
              "    </tr>\n",
              "    <tr>\n",
              "      <th>4</th>\n",
              "      <td>2015-06-10</td>\n",
              "      <td>2</td>\n",
              "      <td>21972</td>\n",
              "      <td>0</td>\n",
              "      <td>2</td>\n",
              "      <td>75</td>\n",
              "      <td>0</td>\n",
              "      <td>5.84</td>\n",
              "      <td>0</td>\n",
              "      <td>0</td>\n",
              "      <td>5241</td>\n",
              "      <td>0.0</td>\n",
              "      <td>6</td>\n",
              "      <td>24</td>\n",
              "      <td>0.0</td>\n",
              "      <td>NaN</td>\n",
              "    </tr>\n",
              "    <tr>\n",
              "      <th>...</th>\n",
              "      <td>...</td>\n",
              "      <td>...</td>\n",
              "      <td>...</td>\n",
              "      <td>...</td>\n",
              "      <td>...</td>\n",
              "      <td>...</td>\n",
              "      <td>...</td>\n",
              "      <td>...</td>\n",
              "      <td>...</td>\n",
              "      <td>...</td>\n",
              "      <td>...</td>\n",
              "      <td>...</td>\n",
              "      <td>...</td>\n",
              "      <td>...</td>\n",
              "      <td>...</td>\n",
              "      <td>...</td>\n",
              "    </tr>\n",
              "    <tr>\n",
              "      <th>1982464</th>\n",
              "      <td>2016-12-26</td>\n",
              "      <td>0</td>\n",
              "      <td>458660</td>\n",
              "      <td>1085</td>\n",
              "      <td>9</td>\n",
              "      <td>340</td>\n",
              "      <td>0</td>\n",
              "      <td>70.85</td>\n",
              "      <td>1</td>\n",
              "      <td>0</td>\n",
              "      <td>126</td>\n",
              "      <td>NaN</td>\n",
              "      <td>12</td>\n",
              "      <td>52</td>\n",
              "      <td>0.0</td>\n",
              "      <td>2.36</td>\n",
              "    </tr>\n",
              "    <tr>\n",
              "      <th>1982465</th>\n",
              "      <td>2016-12-27</td>\n",
              "      <td>1</td>\n",
              "      <td>458660</td>\n",
              "      <td>965</td>\n",
              "      <td>9</td>\n",
              "      <td>340</td>\n",
              "      <td>0</td>\n",
              "      <td>70.85</td>\n",
              "      <td>1</td>\n",
              "      <td>0</td>\n",
              "      <td>126</td>\n",
              "      <td>NaN</td>\n",
              "      <td>12</td>\n",
              "      <td>52</td>\n",
              "      <td>0.0</td>\n",
              "      <td>2.36</td>\n",
              "    </tr>\n",
              "    <tr>\n",
              "      <th>1982466</th>\n",
              "      <td>2016-12-28</td>\n",
              "      <td>2</td>\n",
              "      <td>458660</td>\n",
              "      <td>1005</td>\n",
              "      <td>9</td>\n",
              "      <td>340</td>\n",
              "      <td>0</td>\n",
              "      <td>70.85</td>\n",
              "      <td>1</td>\n",
              "      <td>0</td>\n",
              "      <td>126</td>\n",
              "      <td>NaN</td>\n",
              "      <td>12</td>\n",
              "      <td>52</td>\n",
              "      <td>0.0</td>\n",
              "      <td>2.36</td>\n",
              "    </tr>\n",
              "    <tr>\n",
              "      <th>1982467</th>\n",
              "      <td>2016-12-29</td>\n",
              "      <td>3</td>\n",
              "      <td>458660</td>\n",
              "      <td>745</td>\n",
              "      <td>9</td>\n",
              "      <td>340</td>\n",
              "      <td>0</td>\n",
              "      <td>70.85</td>\n",
              "      <td>1</td>\n",
              "      <td>0</td>\n",
              "      <td>126</td>\n",
              "      <td>NaN</td>\n",
              "      <td>12</td>\n",
              "      <td>52</td>\n",
              "      <td>0.0</td>\n",
              "      <td>0.00</td>\n",
              "    </tr>\n",
              "    <tr>\n",
              "      <th>1982468</th>\n",
              "      <td>2016-12-30</td>\n",
              "      <td>4</td>\n",
              "      <td>458660</td>\n",
              "      <td>1225</td>\n",
              "      <td>9</td>\n",
              "      <td>340</td>\n",
              "      <td>0</td>\n",
              "      <td>70.85</td>\n",
              "      <td>1</td>\n",
              "      <td>0</td>\n",
              "      <td>126</td>\n",
              "      <td>NaN</td>\n",
              "      <td>12</td>\n",
              "      <td>52</td>\n",
              "      <td>0.0</td>\n",
              "      <td>0.00</td>\n",
              "    </tr>\n",
              "  </tbody>\n",
              "</table>\n",
              "<p>1982469 rows × 16 columns</p>\n",
              "</div>"
            ],
            "text/plain": [
              "             fecha  dia_semana      id  visitas  categoria_uno  categoria_dos  \\\n",
              "0       2015-06-06           5   21972        1              2             75   \n",
              "1       2015-06-07           6   21972        1              2             75   \n",
              "2       2015-06-08           0   21972        1              2             75   \n",
              "3       2015-06-09           1   21972        1              2             75   \n",
              "4       2015-06-10           2   21972        0              2             75   \n",
              "...            ...         ...     ...      ...            ...            ...   \n",
              "1982464 2016-12-26           0  458660     1085              9            340   \n",
              "1982465 2016-12-27           1  458660      965              9            340   \n",
              "1982466 2016-12-28           2  458660     1005              9            340   \n",
              "1982467 2016-12-29           3  458660      745              9            340   \n",
              "1982468 2016-12-30           4  458660     1225              9            340   \n",
              "\n",
              "         estado  precio  dia_atipico  campaña  antiguedad  unidades_vendidas  \\\n",
              "0             0    5.84            0        0        5241                1.0   \n",
              "1             0    5.84            0        0        5241                0.0   \n",
              "2             0    5.84            0        0        5241                1.0   \n",
              "3             0    5.84            0        0        5241                0.0   \n",
              "4             0    5.84            0        0        5241                0.0   \n",
              "...         ...     ...          ...      ...         ...                ...   \n",
              "1982464       0   70.85            1        0         126                NaN   \n",
              "1982465       0   70.85            1        0         126                NaN   \n",
              "1982466       0   70.85            1        0         126                NaN   \n",
              "1982467       0   70.85            1        0         126                NaN   \n",
              "1982468       0   70.85            1        0         126                NaN   \n",
              "\n",
              "         mes  semana  precio_diff_1  precio_diff_21  \n",
              "0          6      23            NaN             NaN  \n",
              "1          6      23            0.0             NaN  \n",
              "2          6      24            0.0             NaN  \n",
              "3          6      24            0.0             NaN  \n",
              "4          6      24            0.0             NaN  \n",
              "...      ...     ...            ...             ...  \n",
              "1982464   12      52            0.0            2.36  \n",
              "1982465   12      52            0.0            2.36  \n",
              "1982466   12      52            0.0            2.36  \n",
              "1982467   12      52            0.0            0.00  \n",
              "1982468   12      52            0.0            0.00  \n",
              "\n",
              "[1982469 rows x 16 columns]"
            ]
          },
          "metadata": {
            "tags": []
          },
          "execution_count": 11
        }
      ]
    },
    {
      "cell_type": "code",
      "metadata": {
        "id": "pTBS43DZ--2K"
      },
      "source": [
        ""
      ],
      "execution_count": 11,
      "outputs": []
    },
    {
      "cell_type": "markdown",
      "metadata": {
        "id": "I1jSyoCDUWia"
      },
      "source": [
        "#Pre-procesado"
      ]
    },
    {
      "cell_type": "markdown",
      "metadata": {
        "id": "uf7c2yvC-Len"
      },
      "source": [
        "###Separar datesets en:\r\n",
        "*   Modelar: Fechas del dataset Modelar original (01/06/2015 - 30/09/2016)\r\n",
        "*   Train: Subconjunto de Modelar para hacer CV (01/06/2015 - 31/05/2015)\r\n",
        "*   Test:  Subconjunto de Modelar para hacer CV (01/06/2016 - 30/06/2016)\r\n",
        "*   Estimar: Fechas del dataset Estimar original (01/10/2016 - 30/12/2016)"
      ]
    },
    {
      "cell_type": "code",
      "metadata": {
        "colab": {
          "base_uri": "https://localhost:8080/",
          "height": 0
        },
        "id": "BSzMZp6PhsLq",
        "outputId": "bcfa062d-1264-4c65-8c4a-3a537ee42a89"
      },
      "source": [
        "modelar2 = df2[df2.fecha < '2016-10-01']\r\n",
        "modelar2"
      ],
      "execution_count": 12,
      "outputs": [
        {
          "output_type": "execute_result",
          "data": {
            "text/html": [
              "<div>\n",
              "<style scoped>\n",
              "    .dataframe tbody tr th:only-of-type {\n",
              "        vertical-align: middle;\n",
              "    }\n",
              "\n",
              "    .dataframe tbody tr th {\n",
              "        vertical-align: top;\n",
              "    }\n",
              "\n",
              "    .dataframe thead th {\n",
              "        text-align: right;\n",
              "    }\n",
              "</style>\n",
              "<table border=\"1\" class=\"dataframe\">\n",
              "  <thead>\n",
              "    <tr style=\"text-align: right;\">\n",
              "      <th></th>\n",
              "      <th>fecha</th>\n",
              "      <th>dia_semana</th>\n",
              "      <th>id</th>\n",
              "      <th>visitas</th>\n",
              "      <th>categoria_uno</th>\n",
              "      <th>categoria_dos</th>\n",
              "      <th>estado</th>\n",
              "      <th>precio</th>\n",
              "      <th>dia_atipico</th>\n",
              "      <th>campaña</th>\n",
              "      <th>antiguedad</th>\n",
              "      <th>unidades_vendidas</th>\n",
              "      <th>mes</th>\n",
              "      <th>semana</th>\n",
              "      <th>precio_diff_1</th>\n",
              "      <th>precio_diff_21</th>\n",
              "    </tr>\n",
              "  </thead>\n",
              "  <tbody>\n",
              "    <tr>\n",
              "      <th>0</th>\n",
              "      <td>2015-06-06</td>\n",
              "      <td>5</td>\n",
              "      <td>21972</td>\n",
              "      <td>1</td>\n",
              "      <td>2</td>\n",
              "      <td>75</td>\n",
              "      <td>0</td>\n",
              "      <td>5.84</td>\n",
              "      <td>0</td>\n",
              "      <td>0</td>\n",
              "      <td>5241</td>\n",
              "      <td>1.0</td>\n",
              "      <td>6</td>\n",
              "      <td>23</td>\n",
              "      <td>NaN</td>\n",
              "      <td>NaN</td>\n",
              "    </tr>\n",
              "    <tr>\n",
              "      <th>1</th>\n",
              "      <td>2015-06-07</td>\n",
              "      <td>6</td>\n",
              "      <td>21972</td>\n",
              "      <td>1</td>\n",
              "      <td>2</td>\n",
              "      <td>75</td>\n",
              "      <td>0</td>\n",
              "      <td>5.84</td>\n",
              "      <td>0</td>\n",
              "      <td>0</td>\n",
              "      <td>5241</td>\n",
              "      <td>0.0</td>\n",
              "      <td>6</td>\n",
              "      <td>23</td>\n",
              "      <td>0.00</td>\n",
              "      <td>NaN</td>\n",
              "    </tr>\n",
              "    <tr>\n",
              "      <th>2</th>\n",
              "      <td>2015-06-08</td>\n",
              "      <td>0</td>\n",
              "      <td>21972</td>\n",
              "      <td>1</td>\n",
              "      <td>2</td>\n",
              "      <td>75</td>\n",
              "      <td>0</td>\n",
              "      <td>5.84</td>\n",
              "      <td>0</td>\n",
              "      <td>0</td>\n",
              "      <td>5241</td>\n",
              "      <td>1.0</td>\n",
              "      <td>6</td>\n",
              "      <td>24</td>\n",
              "      <td>0.00</td>\n",
              "      <td>NaN</td>\n",
              "    </tr>\n",
              "    <tr>\n",
              "      <th>3</th>\n",
              "      <td>2015-06-09</td>\n",
              "      <td>1</td>\n",
              "      <td>21972</td>\n",
              "      <td>1</td>\n",
              "      <td>2</td>\n",
              "      <td>75</td>\n",
              "      <td>0</td>\n",
              "      <td>5.84</td>\n",
              "      <td>0</td>\n",
              "      <td>0</td>\n",
              "      <td>5241</td>\n",
              "      <td>0.0</td>\n",
              "      <td>6</td>\n",
              "      <td>24</td>\n",
              "      <td>0.00</td>\n",
              "      <td>NaN</td>\n",
              "    </tr>\n",
              "    <tr>\n",
              "      <th>4</th>\n",
              "      <td>2015-06-10</td>\n",
              "      <td>2</td>\n",
              "      <td>21972</td>\n",
              "      <td>0</td>\n",
              "      <td>2</td>\n",
              "      <td>75</td>\n",
              "      <td>0</td>\n",
              "      <td>5.84</td>\n",
              "      <td>0</td>\n",
              "      <td>0</td>\n",
              "      <td>5241</td>\n",
              "      <td>0.0</td>\n",
              "      <td>6</td>\n",
              "      <td>24</td>\n",
              "      <td>0.00</td>\n",
              "      <td>NaN</td>\n",
              "    </tr>\n",
              "    <tr>\n",
              "      <th>...</th>\n",
              "      <td>...</td>\n",
              "      <td>...</td>\n",
              "      <td>...</td>\n",
              "      <td>...</td>\n",
              "      <td>...</td>\n",
              "      <td>...</td>\n",
              "      <td>...</td>\n",
              "      <td>...</td>\n",
              "      <td>...</td>\n",
              "      <td>...</td>\n",
              "      <td>...</td>\n",
              "      <td>...</td>\n",
              "      <td>...</td>\n",
              "      <td>...</td>\n",
              "      <td>...</td>\n",
              "      <td>...</td>\n",
              "    </tr>\n",
              "    <tr>\n",
              "      <th>1982375</th>\n",
              "      <td>2016-09-26</td>\n",
              "      <td>0</td>\n",
              "      <td>458660</td>\n",
              "      <td>890</td>\n",
              "      <td>9</td>\n",
              "      <td>340</td>\n",
              "      <td>0</td>\n",
              "      <td>68.88</td>\n",
              "      <td>0</td>\n",
              "      <td>0</td>\n",
              "      <td>126</td>\n",
              "      <td>6.0</td>\n",
              "      <td>9</td>\n",
              "      <td>39</td>\n",
              "      <td>-1.97</td>\n",
              "      <td>-1.97</td>\n",
              "    </tr>\n",
              "    <tr>\n",
              "      <th>1982376</th>\n",
              "      <td>2016-09-27</td>\n",
              "      <td>1</td>\n",
              "      <td>458660</td>\n",
              "      <td>1375</td>\n",
              "      <td>9</td>\n",
              "      <td>340</td>\n",
              "      <td>0</td>\n",
              "      <td>68.49</td>\n",
              "      <td>0</td>\n",
              "      <td>0</td>\n",
              "      <td>126</td>\n",
              "      <td>10.0</td>\n",
              "      <td>9</td>\n",
              "      <td>39</td>\n",
              "      <td>-0.39</td>\n",
              "      <td>-2.36</td>\n",
              "    </tr>\n",
              "    <tr>\n",
              "      <th>1982377</th>\n",
              "      <td>2016-09-28</td>\n",
              "      <td>2</td>\n",
              "      <td>458660</td>\n",
              "      <td>1085</td>\n",
              "      <td>9</td>\n",
              "      <td>340</td>\n",
              "      <td>0</td>\n",
              "      <td>68.49</td>\n",
              "      <td>0</td>\n",
              "      <td>0</td>\n",
              "      <td>126</td>\n",
              "      <td>10.0</td>\n",
              "      <td>9</td>\n",
              "      <td>39</td>\n",
              "      <td>0.00</td>\n",
              "      <td>-2.36</td>\n",
              "    </tr>\n",
              "    <tr>\n",
              "      <th>1982378</th>\n",
              "      <td>2016-09-29</td>\n",
              "      <td>3</td>\n",
              "      <td>458660</td>\n",
              "      <td>1325</td>\n",
              "      <td>9</td>\n",
              "      <td>340</td>\n",
              "      <td>0</td>\n",
              "      <td>68.49</td>\n",
              "      <td>0</td>\n",
              "      <td>0</td>\n",
              "      <td>126</td>\n",
              "      <td>1.0</td>\n",
              "      <td>9</td>\n",
              "      <td>39</td>\n",
              "      <td>0.00</td>\n",
              "      <td>-2.36</td>\n",
              "    </tr>\n",
              "    <tr>\n",
              "      <th>1982379</th>\n",
              "      <td>2016-09-30</td>\n",
              "      <td>4</td>\n",
              "      <td>458660</td>\n",
              "      <td>1915</td>\n",
              "      <td>9</td>\n",
              "      <td>340</td>\n",
              "      <td>0</td>\n",
              "      <td>68.49</td>\n",
              "      <td>0</td>\n",
              "      <td>0</td>\n",
              "      <td>126</td>\n",
              "      <td>8.0</td>\n",
              "      <td>9</td>\n",
              "      <td>39</td>\n",
              "      <td>0.00</td>\n",
              "      <td>-2.36</td>\n",
              "    </tr>\n",
              "  </tbody>\n",
              "</table>\n",
              "<p>1769628 rows × 16 columns</p>\n",
              "</div>"
            ],
            "text/plain": [
              "             fecha  dia_semana      id  visitas  categoria_uno  categoria_dos  \\\n",
              "0       2015-06-06           5   21972        1              2             75   \n",
              "1       2015-06-07           6   21972        1              2             75   \n",
              "2       2015-06-08           0   21972        1              2             75   \n",
              "3       2015-06-09           1   21972        1              2             75   \n",
              "4       2015-06-10           2   21972        0              2             75   \n",
              "...            ...         ...     ...      ...            ...            ...   \n",
              "1982375 2016-09-26           0  458660      890              9            340   \n",
              "1982376 2016-09-27           1  458660     1375              9            340   \n",
              "1982377 2016-09-28           2  458660     1085              9            340   \n",
              "1982378 2016-09-29           3  458660     1325              9            340   \n",
              "1982379 2016-09-30           4  458660     1915              9            340   \n",
              "\n",
              "         estado  precio  dia_atipico  campaña  antiguedad  unidades_vendidas  \\\n",
              "0             0    5.84            0        0        5241                1.0   \n",
              "1             0    5.84            0        0        5241                0.0   \n",
              "2             0    5.84            0        0        5241                1.0   \n",
              "3             0    5.84            0        0        5241                0.0   \n",
              "4             0    5.84            0        0        5241                0.0   \n",
              "...         ...     ...          ...      ...         ...                ...   \n",
              "1982375       0   68.88            0        0         126                6.0   \n",
              "1982376       0   68.49            0        0         126               10.0   \n",
              "1982377       0   68.49            0        0         126               10.0   \n",
              "1982378       0   68.49            0        0         126                1.0   \n",
              "1982379       0   68.49            0        0         126                8.0   \n",
              "\n",
              "         mes  semana  precio_diff_1  precio_diff_21  \n",
              "0          6      23            NaN             NaN  \n",
              "1          6      23           0.00             NaN  \n",
              "2          6      24           0.00             NaN  \n",
              "3          6      24           0.00             NaN  \n",
              "4          6      24           0.00             NaN  \n",
              "...      ...     ...            ...             ...  \n",
              "1982375    9      39          -1.97           -1.97  \n",
              "1982376    9      39          -0.39           -2.36  \n",
              "1982377    9      39           0.00           -2.36  \n",
              "1982378    9      39           0.00           -2.36  \n",
              "1982379    9      39           0.00           -2.36  \n",
              "\n",
              "[1769628 rows x 16 columns]"
            ]
          },
          "metadata": {
            "tags": []
          },
          "execution_count": 12
        }
      ]
    },
    {
      "cell_type": "code",
      "metadata": {
        "colab": {
          "base_uri": "https://localhost:8080/",
          "height": 0
        },
        "id": "qnoB2FHmJnlD",
        "outputId": "e2b61447-21fe-4a31-c28a-3a3b9e6d3dfe"
      },
      "source": [
        "train2 = modelar2[modelar2.fecha < '2016-06-01']\r\n",
        "train2"
      ],
      "execution_count": 13,
      "outputs": [
        {
          "output_type": "execute_result",
          "data": {
            "text/html": [
              "<div>\n",
              "<style scoped>\n",
              "    .dataframe tbody tr th:only-of-type {\n",
              "        vertical-align: middle;\n",
              "    }\n",
              "\n",
              "    .dataframe tbody tr th {\n",
              "        vertical-align: top;\n",
              "    }\n",
              "\n",
              "    .dataframe thead th {\n",
              "        text-align: right;\n",
              "    }\n",
              "</style>\n",
              "<table border=\"1\" class=\"dataframe\">\n",
              "  <thead>\n",
              "    <tr style=\"text-align: right;\">\n",
              "      <th></th>\n",
              "      <th>fecha</th>\n",
              "      <th>dia_semana</th>\n",
              "      <th>id</th>\n",
              "      <th>visitas</th>\n",
              "      <th>categoria_uno</th>\n",
              "      <th>categoria_dos</th>\n",
              "      <th>estado</th>\n",
              "      <th>precio</th>\n",
              "      <th>dia_atipico</th>\n",
              "      <th>campaña</th>\n",
              "      <th>antiguedad</th>\n",
              "      <th>unidades_vendidas</th>\n",
              "      <th>mes</th>\n",
              "      <th>semana</th>\n",
              "      <th>precio_diff_1</th>\n",
              "      <th>precio_diff_21</th>\n",
              "    </tr>\n",
              "  </thead>\n",
              "  <tbody>\n",
              "    <tr>\n",
              "      <th>0</th>\n",
              "      <td>2015-06-06</td>\n",
              "      <td>5</td>\n",
              "      <td>21972</td>\n",
              "      <td>1</td>\n",
              "      <td>2</td>\n",
              "      <td>75</td>\n",
              "      <td>0</td>\n",
              "      <td>5.84</td>\n",
              "      <td>0</td>\n",
              "      <td>0</td>\n",
              "      <td>5241</td>\n",
              "      <td>1.0</td>\n",
              "      <td>6</td>\n",
              "      <td>23</td>\n",
              "      <td>NaN</td>\n",
              "      <td>NaN</td>\n",
              "    </tr>\n",
              "    <tr>\n",
              "      <th>1</th>\n",
              "      <td>2015-06-07</td>\n",
              "      <td>6</td>\n",
              "      <td>21972</td>\n",
              "      <td>1</td>\n",
              "      <td>2</td>\n",
              "      <td>75</td>\n",
              "      <td>0</td>\n",
              "      <td>5.84</td>\n",
              "      <td>0</td>\n",
              "      <td>0</td>\n",
              "      <td>5241</td>\n",
              "      <td>0.0</td>\n",
              "      <td>6</td>\n",
              "      <td>23</td>\n",
              "      <td>0.0</td>\n",
              "      <td>NaN</td>\n",
              "    </tr>\n",
              "    <tr>\n",
              "      <th>2</th>\n",
              "      <td>2015-06-08</td>\n",
              "      <td>0</td>\n",
              "      <td>21972</td>\n",
              "      <td>1</td>\n",
              "      <td>2</td>\n",
              "      <td>75</td>\n",
              "      <td>0</td>\n",
              "      <td>5.84</td>\n",
              "      <td>0</td>\n",
              "      <td>0</td>\n",
              "      <td>5241</td>\n",
              "      <td>1.0</td>\n",
              "      <td>6</td>\n",
              "      <td>24</td>\n",
              "      <td>0.0</td>\n",
              "      <td>NaN</td>\n",
              "    </tr>\n",
              "    <tr>\n",
              "      <th>3</th>\n",
              "      <td>2015-06-09</td>\n",
              "      <td>1</td>\n",
              "      <td>21972</td>\n",
              "      <td>1</td>\n",
              "      <td>2</td>\n",
              "      <td>75</td>\n",
              "      <td>0</td>\n",
              "      <td>5.84</td>\n",
              "      <td>0</td>\n",
              "      <td>0</td>\n",
              "      <td>5241</td>\n",
              "      <td>0.0</td>\n",
              "      <td>6</td>\n",
              "      <td>24</td>\n",
              "      <td>0.0</td>\n",
              "      <td>NaN</td>\n",
              "    </tr>\n",
              "    <tr>\n",
              "      <th>4</th>\n",
              "      <td>2015-06-10</td>\n",
              "      <td>2</td>\n",
              "      <td>21972</td>\n",
              "      <td>0</td>\n",
              "      <td>2</td>\n",
              "      <td>75</td>\n",
              "      <td>0</td>\n",
              "      <td>5.84</td>\n",
              "      <td>0</td>\n",
              "      <td>0</td>\n",
              "      <td>5241</td>\n",
              "      <td>0.0</td>\n",
              "      <td>6</td>\n",
              "      <td>24</td>\n",
              "      <td>0.0</td>\n",
              "      <td>NaN</td>\n",
              "    </tr>\n",
              "    <tr>\n",
              "      <th>...</th>\n",
              "      <td>...</td>\n",
              "      <td>...</td>\n",
              "      <td>...</td>\n",
              "      <td>...</td>\n",
              "      <td>...</td>\n",
              "      <td>...</td>\n",
              "      <td>...</td>\n",
              "      <td>...</td>\n",
              "      <td>...</td>\n",
              "      <td>...</td>\n",
              "      <td>...</td>\n",
              "      <td>...</td>\n",
              "      <td>...</td>\n",
              "      <td>...</td>\n",
              "      <td>...</td>\n",
              "      <td>...</td>\n",
              "    </tr>\n",
              "    <tr>\n",
              "      <th>1967761</th>\n",
              "      <td>2016-05-30</td>\n",
              "      <td>0</td>\n",
              "      <td>421244</td>\n",
              "      <td>255</td>\n",
              "      <td>7</td>\n",
              "      <td>307</td>\n",
              "      <td>1</td>\n",
              "      <td>58.18</td>\n",
              "      <td>0</td>\n",
              "      <td>0</td>\n",
              "      <td>217</td>\n",
              "      <td>0.0</td>\n",
              "      <td>5</td>\n",
              "      <td>22</td>\n",
              "      <td>0.0</td>\n",
              "      <td>NaN</td>\n",
              "    </tr>\n",
              "    <tr>\n",
              "      <th>1967762</th>\n",
              "      <td>2016-05-31</td>\n",
              "      <td>1</td>\n",
              "      <td>421244</td>\n",
              "      <td>245</td>\n",
              "      <td>7</td>\n",
              "      <td>307</td>\n",
              "      <td>1</td>\n",
              "      <td>58.18</td>\n",
              "      <td>0</td>\n",
              "      <td>0</td>\n",
              "      <td>217</td>\n",
              "      <td>0.0</td>\n",
              "      <td>5</td>\n",
              "      <td>22</td>\n",
              "      <td>0.0</td>\n",
              "      <td>NaN</td>\n",
              "    </tr>\n",
              "    <tr>\n",
              "      <th>1968663</th>\n",
              "      <td>2016-05-31</td>\n",
              "      <td>1</td>\n",
              "      <td>421938</td>\n",
              "      <td>95</td>\n",
              "      <td>0</td>\n",
              "      <td>34</td>\n",
              "      <td>0</td>\n",
              "      <td>17.88</td>\n",
              "      <td>0</td>\n",
              "      <td>0</td>\n",
              "      <td>216</td>\n",
              "      <td>1.0</td>\n",
              "      <td>5</td>\n",
              "      <td>22</td>\n",
              "      <td>NaN</td>\n",
              "      <td>NaN</td>\n",
              "    </tr>\n",
              "    <tr>\n",
              "      <th>1968878</th>\n",
              "      <td>2016-05-30</td>\n",
              "      <td>0</td>\n",
              "      <td>422012</td>\n",
              "      <td>110</td>\n",
              "      <td>4</td>\n",
              "      <td>266</td>\n",
              "      <td>0</td>\n",
              "      <td>69.39</td>\n",
              "      <td>0</td>\n",
              "      <td>0</td>\n",
              "      <td>216</td>\n",
              "      <td>1.0</td>\n",
              "      <td>5</td>\n",
              "      <td>22</td>\n",
              "      <td>NaN</td>\n",
              "      <td>NaN</td>\n",
              "    </tr>\n",
              "    <tr>\n",
              "      <th>1968879</th>\n",
              "      <td>2016-05-31</td>\n",
              "      <td>1</td>\n",
              "      <td>422012</td>\n",
              "      <td>310</td>\n",
              "      <td>4</td>\n",
              "      <td>266</td>\n",
              "      <td>0</td>\n",
              "      <td>69.39</td>\n",
              "      <td>0</td>\n",
              "      <td>0</td>\n",
              "      <td>216</td>\n",
              "      <td>2.0</td>\n",
              "      <td>5</td>\n",
              "      <td>22</td>\n",
              "      <td>0.0</td>\n",
              "      <td>NaN</td>\n",
              "    </tr>\n",
              "  </tbody>\n",
              "</table>\n",
              "<p>1265370 rows × 16 columns</p>\n",
              "</div>"
            ],
            "text/plain": [
              "             fecha  dia_semana      id  visitas  categoria_uno  categoria_dos  \\\n",
              "0       2015-06-06           5   21972        1              2             75   \n",
              "1       2015-06-07           6   21972        1              2             75   \n",
              "2       2015-06-08           0   21972        1              2             75   \n",
              "3       2015-06-09           1   21972        1              2             75   \n",
              "4       2015-06-10           2   21972        0              2             75   \n",
              "...            ...         ...     ...      ...            ...            ...   \n",
              "1967761 2016-05-30           0  421244      255              7            307   \n",
              "1967762 2016-05-31           1  421244      245              7            307   \n",
              "1968663 2016-05-31           1  421938       95              0             34   \n",
              "1968878 2016-05-30           0  422012      110              4            266   \n",
              "1968879 2016-05-31           1  422012      310              4            266   \n",
              "\n",
              "         estado  precio  dia_atipico  campaña  antiguedad  unidades_vendidas  \\\n",
              "0             0    5.84            0        0        5241                1.0   \n",
              "1             0    5.84            0        0        5241                0.0   \n",
              "2             0    5.84            0        0        5241                1.0   \n",
              "3             0    5.84            0        0        5241                0.0   \n",
              "4             0    5.84            0        0        5241                0.0   \n",
              "...         ...     ...          ...      ...         ...                ...   \n",
              "1967761       1   58.18            0        0         217                0.0   \n",
              "1967762       1   58.18            0        0         217                0.0   \n",
              "1968663       0   17.88            0        0         216                1.0   \n",
              "1968878       0   69.39            0        0         216                1.0   \n",
              "1968879       0   69.39            0        0         216                2.0   \n",
              "\n",
              "         mes  semana  precio_diff_1  precio_diff_21  \n",
              "0          6      23            NaN             NaN  \n",
              "1          6      23            0.0             NaN  \n",
              "2          6      24            0.0             NaN  \n",
              "3          6      24            0.0             NaN  \n",
              "4          6      24            0.0             NaN  \n",
              "...      ...     ...            ...             ...  \n",
              "1967761    5      22            0.0             NaN  \n",
              "1967762    5      22            0.0             NaN  \n",
              "1968663    5      22            NaN             NaN  \n",
              "1968878    5      22            NaN             NaN  \n",
              "1968879    5      22            0.0             NaN  \n",
              "\n",
              "[1265370 rows x 16 columns]"
            ]
          },
          "metadata": {
            "tags": []
          },
          "execution_count": 13
        }
      ]
    },
    {
      "cell_type": "code",
      "metadata": {
        "colab": {
          "base_uri": "https://localhost:8080/",
          "height": 0
        },
        "id": "tqXciNcVKFvc",
        "outputId": "3669407e-54d1-4d18-a758-1439733c6c3f"
      },
      "source": [
        "test2 = modelar2[modelar2.fecha >= '2016-06-01']\r\n",
        "test2.reset_index(drop=True, inplace=True)\r\n",
        "test2"
      ],
      "execution_count": 14,
      "outputs": [
        {
          "output_type": "execute_result",
          "data": {
            "text/html": [
              "<div>\n",
              "<style scoped>\n",
              "    .dataframe tbody tr th:only-of-type {\n",
              "        vertical-align: middle;\n",
              "    }\n",
              "\n",
              "    .dataframe tbody tr th {\n",
              "        vertical-align: top;\n",
              "    }\n",
              "\n",
              "    .dataframe thead th {\n",
              "        text-align: right;\n",
              "    }\n",
              "</style>\n",
              "<table border=\"1\" class=\"dataframe\">\n",
              "  <thead>\n",
              "    <tr style=\"text-align: right;\">\n",
              "      <th></th>\n",
              "      <th>fecha</th>\n",
              "      <th>dia_semana</th>\n",
              "      <th>id</th>\n",
              "      <th>visitas</th>\n",
              "      <th>categoria_uno</th>\n",
              "      <th>categoria_dos</th>\n",
              "      <th>estado</th>\n",
              "      <th>precio</th>\n",
              "      <th>dia_atipico</th>\n",
              "      <th>campaña</th>\n",
              "      <th>antiguedad</th>\n",
              "      <th>unidades_vendidas</th>\n",
              "      <th>mes</th>\n",
              "      <th>semana</th>\n",
              "      <th>precio_diff_1</th>\n",
              "      <th>precio_diff_21</th>\n",
              "    </tr>\n",
              "  </thead>\n",
              "  <tbody>\n",
              "    <tr>\n",
              "      <th>0</th>\n",
              "      <td>2016-06-01</td>\n",
              "      <td>2</td>\n",
              "      <td>21972</td>\n",
              "      <td>5</td>\n",
              "      <td>2</td>\n",
              "      <td>75</td>\n",
              "      <td>0</td>\n",
              "      <td>5.84</td>\n",
              "      <td>0</td>\n",
              "      <td>0</td>\n",
              "      <td>5241</td>\n",
              "      <td>0.0</td>\n",
              "      <td>6</td>\n",
              "      <td>22</td>\n",
              "      <td>0.00</td>\n",
              "      <td>0.00</td>\n",
              "    </tr>\n",
              "    <tr>\n",
              "      <th>1</th>\n",
              "      <td>2016-06-02</td>\n",
              "      <td>3</td>\n",
              "      <td>21972</td>\n",
              "      <td>5</td>\n",
              "      <td>2</td>\n",
              "      <td>75</td>\n",
              "      <td>0</td>\n",
              "      <td>5.84</td>\n",
              "      <td>0</td>\n",
              "      <td>0</td>\n",
              "      <td>5241</td>\n",
              "      <td>1.0</td>\n",
              "      <td>6</td>\n",
              "      <td>22</td>\n",
              "      <td>0.00</td>\n",
              "      <td>0.00</td>\n",
              "    </tr>\n",
              "    <tr>\n",
              "      <th>2</th>\n",
              "      <td>2016-06-03</td>\n",
              "      <td>4</td>\n",
              "      <td>21972</td>\n",
              "      <td>45</td>\n",
              "      <td>2</td>\n",
              "      <td>75</td>\n",
              "      <td>0</td>\n",
              "      <td>5.84</td>\n",
              "      <td>0</td>\n",
              "      <td>0</td>\n",
              "      <td>5241</td>\n",
              "      <td>0.0</td>\n",
              "      <td>6</td>\n",
              "      <td>22</td>\n",
              "      <td>0.00</td>\n",
              "      <td>0.00</td>\n",
              "    </tr>\n",
              "    <tr>\n",
              "      <th>3</th>\n",
              "      <td>2016-06-04</td>\n",
              "      <td>5</td>\n",
              "      <td>21972</td>\n",
              "      <td>5</td>\n",
              "      <td>2</td>\n",
              "      <td>75</td>\n",
              "      <td>0</td>\n",
              "      <td>5.84</td>\n",
              "      <td>0</td>\n",
              "      <td>0</td>\n",
              "      <td>5241</td>\n",
              "      <td>3.0</td>\n",
              "      <td>6</td>\n",
              "      <td>22</td>\n",
              "      <td>0.00</td>\n",
              "      <td>0.00</td>\n",
              "    </tr>\n",
              "    <tr>\n",
              "      <th>4</th>\n",
              "      <td>2016-06-05</td>\n",
              "      <td>6</td>\n",
              "      <td>21972</td>\n",
              "      <td>15</td>\n",
              "      <td>2</td>\n",
              "      <td>75</td>\n",
              "      <td>0</td>\n",
              "      <td>5.84</td>\n",
              "      <td>0</td>\n",
              "      <td>0</td>\n",
              "      <td>5241</td>\n",
              "      <td>0.0</td>\n",
              "      <td>6</td>\n",
              "      <td>22</td>\n",
              "      <td>0.00</td>\n",
              "      <td>0.38</td>\n",
              "    </tr>\n",
              "    <tr>\n",
              "      <th>...</th>\n",
              "      <td>...</td>\n",
              "      <td>...</td>\n",
              "      <td>...</td>\n",
              "      <td>...</td>\n",
              "      <td>...</td>\n",
              "      <td>...</td>\n",
              "      <td>...</td>\n",
              "      <td>...</td>\n",
              "      <td>...</td>\n",
              "      <td>...</td>\n",
              "      <td>...</td>\n",
              "      <td>...</td>\n",
              "      <td>...</td>\n",
              "      <td>...</td>\n",
              "      <td>...</td>\n",
              "      <td>...</td>\n",
              "    </tr>\n",
              "    <tr>\n",
              "      <th>504253</th>\n",
              "      <td>2016-09-26</td>\n",
              "      <td>0</td>\n",
              "      <td>458660</td>\n",
              "      <td>890</td>\n",
              "      <td>9</td>\n",
              "      <td>340</td>\n",
              "      <td>0</td>\n",
              "      <td>68.88</td>\n",
              "      <td>0</td>\n",
              "      <td>0</td>\n",
              "      <td>126</td>\n",
              "      <td>6.0</td>\n",
              "      <td>9</td>\n",
              "      <td>39</td>\n",
              "      <td>-1.97</td>\n",
              "      <td>-1.97</td>\n",
              "    </tr>\n",
              "    <tr>\n",
              "      <th>504254</th>\n",
              "      <td>2016-09-27</td>\n",
              "      <td>1</td>\n",
              "      <td>458660</td>\n",
              "      <td>1375</td>\n",
              "      <td>9</td>\n",
              "      <td>340</td>\n",
              "      <td>0</td>\n",
              "      <td>68.49</td>\n",
              "      <td>0</td>\n",
              "      <td>0</td>\n",
              "      <td>126</td>\n",
              "      <td>10.0</td>\n",
              "      <td>9</td>\n",
              "      <td>39</td>\n",
              "      <td>-0.39</td>\n",
              "      <td>-2.36</td>\n",
              "    </tr>\n",
              "    <tr>\n",
              "      <th>504255</th>\n",
              "      <td>2016-09-28</td>\n",
              "      <td>2</td>\n",
              "      <td>458660</td>\n",
              "      <td>1085</td>\n",
              "      <td>9</td>\n",
              "      <td>340</td>\n",
              "      <td>0</td>\n",
              "      <td>68.49</td>\n",
              "      <td>0</td>\n",
              "      <td>0</td>\n",
              "      <td>126</td>\n",
              "      <td>10.0</td>\n",
              "      <td>9</td>\n",
              "      <td>39</td>\n",
              "      <td>0.00</td>\n",
              "      <td>-2.36</td>\n",
              "    </tr>\n",
              "    <tr>\n",
              "      <th>504256</th>\n",
              "      <td>2016-09-29</td>\n",
              "      <td>3</td>\n",
              "      <td>458660</td>\n",
              "      <td>1325</td>\n",
              "      <td>9</td>\n",
              "      <td>340</td>\n",
              "      <td>0</td>\n",
              "      <td>68.49</td>\n",
              "      <td>0</td>\n",
              "      <td>0</td>\n",
              "      <td>126</td>\n",
              "      <td>1.0</td>\n",
              "      <td>9</td>\n",
              "      <td>39</td>\n",
              "      <td>0.00</td>\n",
              "      <td>-2.36</td>\n",
              "    </tr>\n",
              "    <tr>\n",
              "      <th>504257</th>\n",
              "      <td>2016-09-30</td>\n",
              "      <td>4</td>\n",
              "      <td>458660</td>\n",
              "      <td>1915</td>\n",
              "      <td>9</td>\n",
              "      <td>340</td>\n",
              "      <td>0</td>\n",
              "      <td>68.49</td>\n",
              "      <td>0</td>\n",
              "      <td>0</td>\n",
              "      <td>126</td>\n",
              "      <td>8.0</td>\n",
              "      <td>9</td>\n",
              "      <td>39</td>\n",
              "      <td>0.00</td>\n",
              "      <td>-2.36</td>\n",
              "    </tr>\n",
              "  </tbody>\n",
              "</table>\n",
              "<p>504258 rows × 16 columns</p>\n",
              "</div>"
            ],
            "text/plain": [
              "            fecha  dia_semana      id  visitas  categoria_uno  categoria_dos  \\\n",
              "0      2016-06-01           2   21972        5              2             75   \n",
              "1      2016-06-02           3   21972        5              2             75   \n",
              "2      2016-06-03           4   21972       45              2             75   \n",
              "3      2016-06-04           5   21972        5              2             75   \n",
              "4      2016-06-05           6   21972       15              2             75   \n",
              "...           ...         ...     ...      ...            ...            ...   \n",
              "504253 2016-09-26           0  458660      890              9            340   \n",
              "504254 2016-09-27           1  458660     1375              9            340   \n",
              "504255 2016-09-28           2  458660     1085              9            340   \n",
              "504256 2016-09-29           3  458660     1325              9            340   \n",
              "504257 2016-09-30           4  458660     1915              9            340   \n",
              "\n",
              "        estado  precio  dia_atipico  campaña  antiguedad  unidades_vendidas  \\\n",
              "0            0    5.84            0        0        5241                0.0   \n",
              "1            0    5.84            0        0        5241                1.0   \n",
              "2            0    5.84            0        0        5241                0.0   \n",
              "3            0    5.84            0        0        5241                3.0   \n",
              "4            0    5.84            0        0        5241                0.0   \n",
              "...        ...     ...          ...      ...         ...                ...   \n",
              "504253       0   68.88            0        0         126                6.0   \n",
              "504254       0   68.49            0        0         126               10.0   \n",
              "504255       0   68.49            0        0         126               10.0   \n",
              "504256       0   68.49            0        0         126                1.0   \n",
              "504257       0   68.49            0        0         126                8.0   \n",
              "\n",
              "        mes  semana  precio_diff_1  precio_diff_21  \n",
              "0         6      22           0.00            0.00  \n",
              "1         6      22           0.00            0.00  \n",
              "2         6      22           0.00            0.00  \n",
              "3         6      22           0.00            0.00  \n",
              "4         6      22           0.00            0.38  \n",
              "...     ...     ...            ...             ...  \n",
              "504253    9      39          -1.97           -1.97  \n",
              "504254    9      39          -0.39           -2.36  \n",
              "504255    9      39           0.00           -2.36  \n",
              "504256    9      39           0.00           -2.36  \n",
              "504257    9      39           0.00           -2.36  \n",
              "\n",
              "[504258 rows x 16 columns]"
            ]
          },
          "metadata": {
            "tags": []
          },
          "execution_count": 14
        }
      ]
    },
    {
      "cell_type": "code",
      "metadata": {
        "colab": {
          "base_uri": "https://localhost:8080/",
          "height": 0
        },
        "id": "Z91v_M_Qo5S-",
        "outputId": "0625b34e-81f0-4b34-be26-aa4ba6950b19"
      },
      "source": [
        "estimar2 = df2[df2.fecha >= '2016-10-01']\r\n",
        "estimar2.reset_index(drop=True, inplace=True)\r\n",
        "estimar2"
      ],
      "execution_count": 15,
      "outputs": [
        {
          "output_type": "execute_result",
          "data": {
            "text/html": [
              "<div>\n",
              "<style scoped>\n",
              "    .dataframe tbody tr th:only-of-type {\n",
              "        vertical-align: middle;\n",
              "    }\n",
              "\n",
              "    .dataframe tbody tr th {\n",
              "        vertical-align: top;\n",
              "    }\n",
              "\n",
              "    .dataframe thead th {\n",
              "        text-align: right;\n",
              "    }\n",
              "</style>\n",
              "<table border=\"1\" class=\"dataframe\">\n",
              "  <thead>\n",
              "    <tr style=\"text-align: right;\">\n",
              "      <th></th>\n",
              "      <th>fecha</th>\n",
              "      <th>dia_semana</th>\n",
              "      <th>id</th>\n",
              "      <th>visitas</th>\n",
              "      <th>categoria_uno</th>\n",
              "      <th>categoria_dos</th>\n",
              "      <th>estado</th>\n",
              "      <th>precio</th>\n",
              "      <th>dia_atipico</th>\n",
              "      <th>campaña</th>\n",
              "      <th>antiguedad</th>\n",
              "      <th>unidades_vendidas</th>\n",
              "      <th>mes</th>\n",
              "      <th>semana</th>\n",
              "      <th>precio_diff_1</th>\n",
              "      <th>precio_diff_21</th>\n",
              "    </tr>\n",
              "  </thead>\n",
              "  <tbody>\n",
              "    <tr>\n",
              "      <th>0</th>\n",
              "      <td>2016-10-01</td>\n",
              "      <td>5</td>\n",
              "      <td>21972</td>\n",
              "      <td>5</td>\n",
              "      <td>2</td>\n",
              "      <td>75</td>\n",
              "      <td>0</td>\n",
              "      <td>5.84</td>\n",
              "      <td>0</td>\n",
              "      <td>0</td>\n",
              "      <td>5241</td>\n",
              "      <td>NaN</td>\n",
              "      <td>10</td>\n",
              "      <td>39</td>\n",
              "      <td>0.0</td>\n",
              "      <td>0.00</td>\n",
              "    </tr>\n",
              "    <tr>\n",
              "      <th>1</th>\n",
              "      <td>2016-10-02</td>\n",
              "      <td>6</td>\n",
              "      <td>21972</td>\n",
              "      <td>15</td>\n",
              "      <td>2</td>\n",
              "      <td>75</td>\n",
              "      <td>0</td>\n",
              "      <td>5.84</td>\n",
              "      <td>0</td>\n",
              "      <td>0</td>\n",
              "      <td>5241</td>\n",
              "      <td>NaN</td>\n",
              "      <td>10</td>\n",
              "      <td>39</td>\n",
              "      <td>0.0</td>\n",
              "      <td>0.00</td>\n",
              "    </tr>\n",
              "    <tr>\n",
              "      <th>2</th>\n",
              "      <td>2016-10-03</td>\n",
              "      <td>0</td>\n",
              "      <td>21972</td>\n",
              "      <td>5</td>\n",
              "      <td>2</td>\n",
              "      <td>75</td>\n",
              "      <td>0</td>\n",
              "      <td>5.84</td>\n",
              "      <td>0</td>\n",
              "      <td>0</td>\n",
              "      <td>5241</td>\n",
              "      <td>NaN</td>\n",
              "      <td>10</td>\n",
              "      <td>40</td>\n",
              "      <td>0.0</td>\n",
              "      <td>0.00</td>\n",
              "    </tr>\n",
              "    <tr>\n",
              "      <th>3</th>\n",
              "      <td>2016-10-04</td>\n",
              "      <td>1</td>\n",
              "      <td>21972</td>\n",
              "      <td>5</td>\n",
              "      <td>2</td>\n",
              "      <td>75</td>\n",
              "      <td>0</td>\n",
              "      <td>5.84</td>\n",
              "      <td>0</td>\n",
              "      <td>0</td>\n",
              "      <td>5241</td>\n",
              "      <td>NaN</td>\n",
              "      <td>10</td>\n",
              "      <td>40</td>\n",
              "      <td>0.0</td>\n",
              "      <td>0.00</td>\n",
              "    </tr>\n",
              "    <tr>\n",
              "      <th>4</th>\n",
              "      <td>2016-10-05</td>\n",
              "      <td>2</td>\n",
              "      <td>21972</td>\n",
              "      <td>0</td>\n",
              "      <td>2</td>\n",
              "      <td>75</td>\n",
              "      <td>0</td>\n",
              "      <td>5.84</td>\n",
              "      <td>0</td>\n",
              "      <td>0</td>\n",
              "      <td>5241</td>\n",
              "      <td>NaN</td>\n",
              "      <td>10</td>\n",
              "      <td>40</td>\n",
              "      <td>0.0</td>\n",
              "      <td>0.00</td>\n",
              "    </tr>\n",
              "    <tr>\n",
              "      <th>...</th>\n",
              "      <td>...</td>\n",
              "      <td>...</td>\n",
              "      <td>...</td>\n",
              "      <td>...</td>\n",
              "      <td>...</td>\n",
              "      <td>...</td>\n",
              "      <td>...</td>\n",
              "      <td>...</td>\n",
              "      <td>...</td>\n",
              "      <td>...</td>\n",
              "      <td>...</td>\n",
              "      <td>...</td>\n",
              "      <td>...</td>\n",
              "      <td>...</td>\n",
              "      <td>...</td>\n",
              "      <td>...</td>\n",
              "    </tr>\n",
              "    <tr>\n",
              "      <th>212836</th>\n",
              "      <td>2016-12-26</td>\n",
              "      <td>0</td>\n",
              "      <td>458660</td>\n",
              "      <td>1085</td>\n",
              "      <td>9</td>\n",
              "      <td>340</td>\n",
              "      <td>0</td>\n",
              "      <td>70.85</td>\n",
              "      <td>1</td>\n",
              "      <td>0</td>\n",
              "      <td>126</td>\n",
              "      <td>NaN</td>\n",
              "      <td>12</td>\n",
              "      <td>52</td>\n",
              "      <td>0.0</td>\n",
              "      <td>2.36</td>\n",
              "    </tr>\n",
              "    <tr>\n",
              "      <th>212837</th>\n",
              "      <td>2016-12-27</td>\n",
              "      <td>1</td>\n",
              "      <td>458660</td>\n",
              "      <td>965</td>\n",
              "      <td>9</td>\n",
              "      <td>340</td>\n",
              "      <td>0</td>\n",
              "      <td>70.85</td>\n",
              "      <td>1</td>\n",
              "      <td>0</td>\n",
              "      <td>126</td>\n",
              "      <td>NaN</td>\n",
              "      <td>12</td>\n",
              "      <td>52</td>\n",
              "      <td>0.0</td>\n",
              "      <td>2.36</td>\n",
              "    </tr>\n",
              "    <tr>\n",
              "      <th>212838</th>\n",
              "      <td>2016-12-28</td>\n",
              "      <td>2</td>\n",
              "      <td>458660</td>\n",
              "      <td>1005</td>\n",
              "      <td>9</td>\n",
              "      <td>340</td>\n",
              "      <td>0</td>\n",
              "      <td>70.85</td>\n",
              "      <td>1</td>\n",
              "      <td>0</td>\n",
              "      <td>126</td>\n",
              "      <td>NaN</td>\n",
              "      <td>12</td>\n",
              "      <td>52</td>\n",
              "      <td>0.0</td>\n",
              "      <td>2.36</td>\n",
              "    </tr>\n",
              "    <tr>\n",
              "      <th>212839</th>\n",
              "      <td>2016-12-29</td>\n",
              "      <td>3</td>\n",
              "      <td>458660</td>\n",
              "      <td>745</td>\n",
              "      <td>9</td>\n",
              "      <td>340</td>\n",
              "      <td>0</td>\n",
              "      <td>70.85</td>\n",
              "      <td>1</td>\n",
              "      <td>0</td>\n",
              "      <td>126</td>\n",
              "      <td>NaN</td>\n",
              "      <td>12</td>\n",
              "      <td>52</td>\n",
              "      <td>0.0</td>\n",
              "      <td>0.00</td>\n",
              "    </tr>\n",
              "    <tr>\n",
              "      <th>212840</th>\n",
              "      <td>2016-12-30</td>\n",
              "      <td>4</td>\n",
              "      <td>458660</td>\n",
              "      <td>1225</td>\n",
              "      <td>9</td>\n",
              "      <td>340</td>\n",
              "      <td>0</td>\n",
              "      <td>70.85</td>\n",
              "      <td>1</td>\n",
              "      <td>0</td>\n",
              "      <td>126</td>\n",
              "      <td>NaN</td>\n",
              "      <td>12</td>\n",
              "      <td>52</td>\n",
              "      <td>0.0</td>\n",
              "      <td>0.00</td>\n",
              "    </tr>\n",
              "  </tbody>\n",
              "</table>\n",
              "<p>212841 rows × 16 columns</p>\n",
              "</div>"
            ],
            "text/plain": [
              "            fecha  dia_semana      id  visitas  categoria_uno  categoria_dos  \\\n",
              "0      2016-10-01           5   21972        5              2             75   \n",
              "1      2016-10-02           6   21972       15              2             75   \n",
              "2      2016-10-03           0   21972        5              2             75   \n",
              "3      2016-10-04           1   21972        5              2             75   \n",
              "4      2016-10-05           2   21972        0              2             75   \n",
              "...           ...         ...     ...      ...            ...            ...   \n",
              "212836 2016-12-26           0  458660     1085              9            340   \n",
              "212837 2016-12-27           1  458660      965              9            340   \n",
              "212838 2016-12-28           2  458660     1005              9            340   \n",
              "212839 2016-12-29           3  458660      745              9            340   \n",
              "212840 2016-12-30           4  458660     1225              9            340   \n",
              "\n",
              "        estado  precio  dia_atipico  campaña  antiguedad  unidades_vendidas  \\\n",
              "0            0    5.84            0        0        5241                NaN   \n",
              "1            0    5.84            0        0        5241                NaN   \n",
              "2            0    5.84            0        0        5241                NaN   \n",
              "3            0    5.84            0        0        5241                NaN   \n",
              "4            0    5.84            0        0        5241                NaN   \n",
              "...        ...     ...          ...      ...         ...                ...   \n",
              "212836       0   70.85            1        0         126                NaN   \n",
              "212837       0   70.85            1        0         126                NaN   \n",
              "212838       0   70.85            1        0         126                NaN   \n",
              "212839       0   70.85            1        0         126                NaN   \n",
              "212840       0   70.85            1        0         126                NaN   \n",
              "\n",
              "        mes  semana  precio_diff_1  precio_diff_21  \n",
              "0        10      39            0.0            0.00  \n",
              "1        10      39            0.0            0.00  \n",
              "2        10      40            0.0            0.00  \n",
              "3        10      40            0.0            0.00  \n",
              "4        10      40            0.0            0.00  \n",
              "...     ...     ...            ...             ...  \n",
              "212836   12      52            0.0            2.36  \n",
              "212837   12      52            0.0            2.36  \n",
              "212838   12      52            0.0            2.36  \n",
              "212839   12      52            0.0            0.00  \n",
              "212840   12      52            0.0            0.00  \n",
              "\n",
              "[212841 rows x 16 columns]"
            ]
          },
          "metadata": {
            "tags": []
          },
          "execution_count": 15
        }
      ]
    },
    {
      "cell_type": "markdown",
      "metadata": {
        "id": "ARcHd8iW5nmO"
      },
      "source": [
        "###Revisión valores nulos"
      ]
    },
    {
      "cell_type": "markdown",
      "metadata": {
        "id": "9QeY7O5tpNkC"
      },
      "source": [
        "Comprobación de valores nulos"
      ]
    },
    {
      "cell_type": "code",
      "metadata": {
        "colab": {
          "base_uri": "https://localhost:8080/"
        },
        "id": "UNf0LOZj5m_b",
        "outputId": "c1cd363b-e854-45b0-9261-c8fcc1cd233c"
      },
      "source": [
        "df2.isnull().sum()"
      ],
      "execution_count": 16,
      "outputs": [
        {
          "output_type": "execute_result",
          "data": {
            "text/plain": [
              "fecha                     0\n",
              "dia_semana                0\n",
              "id                        0\n",
              "visitas                   0\n",
              "categoria_uno             0\n",
              "categoria_dos             0\n",
              "estado                    0\n",
              "precio                    0\n",
              "dia_atipico               0\n",
              "campaña                   0\n",
              "antiguedad                0\n",
              "unidades_vendidas    212841\n",
              "mes                       0\n",
              "semana                    0\n",
              "precio_diff_1          4168\n",
              "precio_diff_21        87528\n",
              "dtype: int64"
            ]
          },
          "metadata": {
            "tags": []
          },
          "execution_count": 16
        }
      ]
    },
    {
      "cell_type": "code",
      "metadata": {
        "colab": {
          "base_uri": "https://localhost:8080/"
        },
        "id": "uLBAvDQ4pKGO",
        "outputId": "00860937-ed99-4a68-d116-d8bcaf2b6ed6"
      },
      "source": [
        "modelar2.isnull().sum()"
      ],
      "execution_count": 17,
      "outputs": [
        {
          "output_type": "execute_result",
          "data": {
            "text/plain": [
              "fecha                    0\n",
              "dia_semana               0\n",
              "id                       0\n",
              "visitas                  0\n",
              "categoria_uno            0\n",
              "categoria_dos            0\n",
              "estado                   0\n",
              "precio                   0\n",
              "dia_atipico              0\n",
              "campaña                  0\n",
              "antiguedad               0\n",
              "unidades_vendidas        0\n",
              "mes                      0\n",
              "semana                   0\n",
              "precio_diff_1         4168\n",
              "precio_diff_21       87528\n",
              "dtype: int64"
            ]
          },
          "metadata": {
            "tags": []
          },
          "execution_count": 17
        }
      ]
    },
    {
      "cell_type": "code",
      "metadata": {
        "colab": {
          "base_uri": "https://localhost:8080/"
        },
        "id": "B6MQeBMJ6C6U",
        "outputId": "e6388287-e54b-4c40-dbbf-6314ba27e8e0"
      },
      "source": [
        "train2.isnull().sum()"
      ],
      "execution_count": 18,
      "outputs": [
        {
          "output_type": "execute_result",
          "data": {
            "text/plain": [
              "fecha                    0\n",
              "dia_semana               0\n",
              "id                       0\n",
              "visitas                  0\n",
              "categoria_uno            0\n",
              "categoria_dos            0\n",
              "estado                   0\n",
              "precio                   0\n",
              "dia_atipico              0\n",
              "campaña                  0\n",
              "antiguedad               0\n",
              "unidades_vendidas        0\n",
              "mes                      0\n",
              "semana                   0\n",
              "precio_diff_1         4044\n",
              "precio_diff_21       84400\n",
              "dtype: int64"
            ]
          },
          "metadata": {
            "tags": []
          },
          "execution_count": 18
        }
      ]
    },
    {
      "cell_type": "code",
      "metadata": {
        "colab": {
          "base_uri": "https://localhost:8080/"
        },
        "id": "Y8ui18ca-C5C",
        "outputId": "c3bba4f9-cabf-4435-c44e-7738cb92d9ee"
      },
      "source": [
        "test2.isnull().sum()"
      ],
      "execution_count": 19,
      "outputs": [
        {
          "output_type": "execute_result",
          "data": {
            "text/plain": [
              "fecha                   0\n",
              "dia_semana              0\n",
              "id                      0\n",
              "visitas                 0\n",
              "categoria_uno           0\n",
              "categoria_dos           0\n",
              "estado                  0\n",
              "precio                  0\n",
              "dia_atipico             0\n",
              "campaña                 0\n",
              "antiguedad              0\n",
              "unidades_vendidas       0\n",
              "mes                     0\n",
              "semana                  0\n",
              "precio_diff_1         124\n",
              "precio_diff_21       3128\n",
              "dtype: int64"
            ]
          },
          "metadata": {
            "tags": []
          },
          "execution_count": 19
        }
      ]
    },
    {
      "cell_type": "code",
      "metadata": {
        "colab": {
          "base_uri": "https://localhost:8080/"
        },
        "id": "0oGDJLsaa-M_",
        "outputId": "10e086ad-a86e-42e7-b0bd-e36cb8368857"
      },
      "source": [
        "estimar2.isnull().sum()"
      ],
      "execution_count": 20,
      "outputs": [
        {
          "output_type": "execute_result",
          "data": {
            "text/plain": [
              "fecha                     0\n",
              "dia_semana                0\n",
              "id                        0\n",
              "visitas                   0\n",
              "categoria_uno             0\n",
              "categoria_dos             0\n",
              "estado                    0\n",
              "precio                    0\n",
              "dia_atipico               0\n",
              "campaña                   0\n",
              "antiguedad                0\n",
              "unidades_vendidas    212841\n",
              "mes                       0\n",
              "semana                    0\n",
              "precio_diff_1             0\n",
              "precio_diff_21            0\n",
              "dtype: int64"
            ]
          },
          "metadata": {
            "tags": []
          },
          "execution_count": 20
        }
      ]
    },
    {
      "cell_type": "markdown",
      "metadata": {
        "id": "6nan4cyp_es6"
      },
      "source": [
        "#Función de error"
      ]
    },
    {
      "cell_type": "markdown",
      "metadata": {
        "id": "WLhVEd6-_hzS"
      },
      "source": [
        "Calcula el error según la métrica del concurso entre 2 dataset con el mismo número de filas y con columnas:\r\n",
        "*   FECHA: DD/MM/AAAA (formato texto)\r\n",
        "*   ID: identificador del artículo (formato numérico)\r\n",
        "*   UNIDADES: variable a predecir (formato numérico)\r\n",
        "*   Separador: símbolo pipe, “|”\r\n",
        "*   Codificación en UTF-8"
      ]
    },
    {
      "cell_type": "markdown",
      "metadata": {
        "id": "h8ur6dl7EvKT"
      },
      "source": [
        "https://stats.stackexchange.com/questions/260615/what-is-the-difference-between-rrmse-and-rmsre"
      ]
    },
    {
      "cell_type": "code",
      "metadata": {
        "id": "31SVYkA2ACkq"
      },
      "source": [
        "#La entrada a la función es la columna unidades, deben estar ordenados previamente por fecha e id\r\n",
        "def metrica_error(y_pred, y_val, pintar):\r\n",
        "  if (len(y_pred) != len(y_val)):\r\n",
        "    return -1\r\n",
        "  rmse=metrics.mean_squared_error(y_pred, y_val, squared=False)\r\n",
        "  rrmse=rmse/stats.mean(y_val)\r\n",
        "  cf = np.sum(y_pred >= y_val)/len(y_pred)\r\n",
        "  error=0.7*rrmse+0.3*(1-cf)\r\n",
        "  if pintar:\r\n",
        "    print('Error = ', round(error, 2))\r\n",
        "    print('rRMSE = ', round(rrmse, 2))\r\n",
        "    print('CF = ', round(cf, 2))\r\n",
        "    #if (rrmse < 0.1):\r\n",
        "    #  print('· rRMSE < 10%, Excelent!!!')\r\n",
        "    #elif (rrmse < 0.2):\r\n",
        "    #  print('· 10% < rRMSE < 20%, Good!')\r\n",
        "    #elif (rrmse < 0.3):\r\n",
        "    #  print('· 20% < rRMSE < 30%, Fair')\r\n",
        "    #else :\r\n",
        "    #  print('· rRMSE > 30%, Poor :(')\r\n",
        "  return error, rrmse, cf"
      ],
      "execution_count": 21,
      "outputs": []
    },
    {
      "cell_type": "markdown",
      "metadata": {
        "id": "dvCGCFMUBYtb"
      },
      "source": [
        "#Modelado y validación"
      ]
    },
    {
      "cell_type": "markdown",
      "metadata": {
        "id": "cuud1M7P4l_c"
      },
      "source": [
        "Usando algoritmo LightGBM. Se entrena con el dataset de Train y se valida con el de Test, calculados en el Pre-proceso"
      ]
    },
    {
      "cell_type": "code",
      "metadata": {
        "id": "HxjkxXduzCt8",
        "colab": {
          "base_uri": "https://localhost:8080/"
        },
        "outputId": "e117573f-6e60-4d68-9105-0263c9a7c162"
      },
      "source": [
        "#Preparar dataset de train y test para el modelado\r\n",
        "cat_feats = ['categoria_uno',  'categoria_dos', 'estado']#, 'semana', 'mes', 'dia_semana', 'dia_atipico', 'campaña', 'id']\r\n",
        "useless_cols = ['fecha', 'unidades_vendidas']#'fecha', 'categoria_dos', 'antiguedad', 'id', \r\n",
        "train_cols = train2.columns[~train2.columns.isin(useless_cols)]\r\n",
        "X_train = train2[train_cols]\r\n",
        "y_train = train2['unidades_vendidas']\r\n",
        "X_test = test2[train_cols]\r\n",
        "y_test = test2['unidades_vendidas']\r\n",
        "\r\n",
        "#Dataset de validacion en formatao lgb\r\n",
        "#fake_valid_inds = np.random.choice(X_train.index.values, 200_000, replace = False)\r\n",
        "#train_inds = np.setdiff1d(X_train.index.values, fake_valid_inds)\r\n",
        "#train_data = lgb.Dataset(X_train.loc[train_inds] , label = y_train.loc[train_inds], \r\n",
        "#                         categorical_feature=cat_feats, free_raw_data=False)\r\n",
        "#fake_valid_data = lgb.Dataset(X_train.loc[fake_valid_inds], label = y_train.loc[fake_valid_inds],\r\n",
        "#                              categorical_feature=cat_feats,\r\n",
        "#                 free_raw_data=False)# This is a random sample, we're not gonna apply any time series train-test-split tricks here!\r\n",
        "\r\n",
        "train_data = lgb.Dataset(X_train , label = y_train, categorical_feature=cat_feats, free_raw_data=False)\r\n",
        "test_data = lgb.Dataset(X_test, label = y_test, categorical_feature=cat_feats, free_raw_data=False)\r\n",
        "train_cols"
      ],
      "execution_count": 22,
      "outputs": [
        {
          "output_type": "execute_result",
          "data": {
            "text/plain": [
              "Index(['dia_semana', 'id', 'visitas', 'categoria_uno', 'categoria_dos',\n",
              "       'estado', 'precio', 'dia_atipico', 'campaña', 'antiguedad', 'mes',\n",
              "       'semana', 'precio_diff_1', 'precio_diff_21'],\n",
              "      dtype='object')"
            ]
          },
          "metadata": {
            "tags": []
          },
          "execution_count": 22
        }
      ]
    },
    {
      "cell_type": "markdown",
      "metadata": {
        "id": "RiZgFUb3w9EJ"
      },
      "source": [
        "LGBM Parameters: https://lightgbm.readthedocs.io/en/latest/Parameters.html"
      ]
    },
    {
      "cell_type": "code",
      "metadata": {
        "id": "Fp6bvFp8w4W0"
      },
      "source": [
        "#LGBM Paramietrization\r\n",
        "params = {\r\n",
        "    'boosting_type': 'gbdt',\r\n",
        "    'objective': 'tweedie',\r\n",
        "    'tweedie_variance_power': 1.9,\r\n",
        "    'metric': 'rmse',\r\n",
        "    'subsample': 0.5,\r\n",
        "    'subsample_freq': 1,\r\n",
        "    'feature_fraction': 0.5,\r\n",
        "    'learning_rate': 0.06,#0.03,\r\n",
        "    'num_leaves': 2**11-1,\r\n",
        "    'min_data_in_leaf': 2**12-1,\r\n",
        "    'max_bin': 100,\r\n",
        "    'num_iterations': 800,\r\n",
        "    'boost_from_average': False,\r\n",
        "    'seed': 0,\r\n",
        "    'verbose': -1,\r\n",
        "} "
      ],
      "execution_count": 23,
      "outputs": []
    },
    {
      "cell_type": "code",
      "metadata": {
        "colab": {
          "base_uri": "https://localhost:8080/"
        },
        "id": "w1Pt2Pij02bR",
        "outputId": "823b52a4-ffaf-4545-f6db-9946a3abdfd9"
      },
      "source": [
        "%%time\r\n",
        "!date\r\n",
        "#Training\r\n",
        "m_lgb = lgb.train(params, train_data, valid_sets = [test_data], verbose_eval=20) \r\n",
        "#predict\r\n",
        "y_pred_lgbm = m_lgb.predict(X_test)\r\n",
        "!date"
      ],
      "execution_count": 24,
      "outputs": [
        {
          "output_type": "stream",
          "text": [
            "Wed Mar 17 16:11:52 UTC 2021\n"
          ],
          "name": "stdout"
        },
        {
          "output_type": "stream",
          "text": [
            "/usr/local/lib/python3.7/dist-packages/lightgbm/engine.py:118: UserWarning: Found `num_iterations` in params. Will use it instead of argument\n",
            "  warnings.warn(\"Found `{}` in params. Will use it instead of argument\".format(alias))\n",
            "/usr/local/lib/python3.7/dist-packages/lightgbm/basic.py:1205: UserWarning: Using categorical_feature in Dataset.\n",
            "  warnings.warn('Using categorical_feature in Dataset.')\n",
            "/usr/local/lib/python3.7/dist-packages/lightgbm/basic.py:762: UserWarning: categorical_feature in param dict is overridden.\n",
            "  warnings.warn('categorical_feature in param dict is overridden.')\n"
          ],
          "name": "stderr"
        },
        {
          "output_type": "stream",
          "text": [
            "[20]\tvalid_0's rmse: 5.25382\n",
            "[40]\tvalid_0's rmse: 5.08876\n",
            "[60]\tvalid_0's rmse: 4.91594\n",
            "[80]\tvalid_0's rmse: 4.80549\n",
            "[100]\tvalid_0's rmse: 4.84264\n",
            "[120]\tvalid_0's rmse: 4.98826\n",
            "[140]\tvalid_0's rmse: 5.11375\n",
            "[160]\tvalid_0's rmse: 5.23253\n",
            "[180]\tvalid_0's rmse: 5.34175\n",
            "[200]\tvalid_0's rmse: 5.42449\n",
            "[220]\tvalid_0's rmse: 5.57251\n",
            "[240]\tvalid_0's rmse: 5.61261\n",
            "[260]\tvalid_0's rmse: 5.65389\n",
            "[280]\tvalid_0's rmse: 5.68848\n",
            "[300]\tvalid_0's rmse: 5.72848\n",
            "[320]\tvalid_0's rmse: 5.72117\n",
            "[340]\tvalid_0's rmse: 5.7851\n",
            "[360]\tvalid_0's rmse: 5.80106\n",
            "[380]\tvalid_0's rmse: 5.81464\n",
            "[400]\tvalid_0's rmse: 5.79538\n",
            "[420]\tvalid_0's rmse: 5.8078\n",
            "[440]\tvalid_0's rmse: 5.82106\n",
            "[460]\tvalid_0's rmse: 5.84324\n",
            "[480]\tvalid_0's rmse: 5.87813\n",
            "[500]\tvalid_0's rmse: 5.87941\n",
            "[520]\tvalid_0's rmse: 5.96105\n",
            "[540]\tvalid_0's rmse: 6.00157\n",
            "[560]\tvalid_0's rmse: 6.0088\n",
            "[580]\tvalid_0's rmse: 6.0885\n",
            "[600]\tvalid_0's rmse: 6.11857\n",
            "[620]\tvalid_0's rmse: 6.21877\n",
            "[640]\tvalid_0's rmse: 6.25754\n",
            "[660]\tvalid_0's rmse: 6.27511\n",
            "[680]\tvalid_0's rmse: 6.22766\n",
            "[700]\tvalid_0's rmse: 6.24767\n",
            "[720]\tvalid_0's rmse: 6.2322\n",
            "[740]\tvalid_0's rmse: 6.24994\n",
            "[760]\tvalid_0's rmse: 6.24729\n",
            "[780]\tvalid_0's rmse: 6.26143\n",
            "[800]\tvalid_0's rmse: 6.2358\n",
            "Wed Mar 17 16:17:31 UTC 2021\n",
            "CPU times: user 11min 3s, sys: 1.21 s, total: 11min 4s\n",
            "Wall time: 5min 39s\n"
          ],
          "name": "stdout"
        }
      ]
    },
    {
      "cell_type": "code",
      "metadata": {
        "colab": {
          "base_uri": "https://localhost:8080/"
        },
        "id": "SSdGm3ttMWm4",
        "outputId": "a9445010-e30d-46ef-b64e-54a8be40f3c0"
      },
      "source": [
        "y_pred_lgbm2 = np.round(abs(y_pred_lgbm), 0).astype('int')\r\n",
        "#y_pred_lgbm2 = np.ceil(abs(y_pred_lgbm)).astype('int')\r\n",
        "y_pred_lgbm2 = 3*y_pred_lgbm2 #Se multiplica por 3 porque en FE se dividía por 3 en el dataset original\r\n",
        "error, rrmse, cf = metrica_error(y_pred_lgbm2, 3*y_test, 1)"
      ],
      "execution_count": 25,
      "outputs": [
        {
          "output_type": "stream",
          "text": [
            "Error =  3.85\n",
            "rRMSE =  5.49\n",
            "CF =  0.97\n"
          ],
          "name": "stdout"
        }
      ]
    },
    {
      "cell_type": "code",
      "metadata": {
        "colab": {
          "base_uri": "https://localhost:8080/",
          "height": 316
        },
        "id": "0CVos3w7Xb9T",
        "outputId": "3a5a5fab-c1aa-4e71-a442-253527386bf3"
      },
      "source": [
        "plt.figure(figsize=(20,5))\r\n",
        "plt.plot(y_test.index, y_pred_lgbm2, label='pred')\r\n",
        "plt.plot(y_test.index, 3*y_test, label='test')\r\n",
        "plt.legend()\r\n",
        "plt.show()"
      ],
      "execution_count": 26,
      "outputs": [
        {
          "output_type": "display_data",
          "data": {
            "image/png": "[encoded data removed]",
            "text/plain": [
              "<Figure size 1440x360 with 1 Axes>"
            ]
          },
          "metadata": {
            "tags": [],
            "needs_background": "light"
          }
        }
      ]
    },
    {
      "cell_type": "code",
      "metadata": {
        "colab": {
          "base_uri": "https://localhost:8080/",
          "height": 912
        },
        "id": "BHoL7Vs7xtIZ",
        "outputId": "f979efed-695b-4766-d7c3-412d3296eae2"
      },
      "source": [
        "lgb.plot_importance(m_lgb, figsize=(15,15))"
      ],
      "execution_count": 27,
      "outputs": [
        {
          "output_type": "execute_result",
          "data": {
            "text/plain": [
              "<matplotlib.axes._subplots.AxesSubplot at 0x7ff20fa04310>"
            ]
          },
          "metadata": {
            "tags": []
          },
          "execution_count": 27
        },
        {
          "output_type": "display_data",
          "data": {
            "image/png": "[encoded data removed]",
            "text/plain": [
              "<Figure size 1080x1080 with 1 Axes>"
            ]
          },
          "metadata": {
            "tags": [],
            "needs_background": "light"
          }
        }
      ]
    },
    {
      "cell_type": "markdown",
      "metadata": {
        "id": "y1uCzzsFFM57"
      },
      "source": [
        "#Entrenamiento y predicción"
      ]
    },
    {
      "cell_type": "markdown",
      "metadata": {
        "id": "yGVwzm-66StB"
      },
      "source": [
        "Una vez definido el modelo en el aparatado anterior, se entrena con todo el conjunto de datos de Modelar, y se realización las predicciones con Estimar"
      ]
    },
    {
      "cell_type": "code",
      "metadata": {
        "id": "U-iB2jpOzkw2"
      },
      "source": [
        "#Preparar dataset Modelar y Estimar\r\n",
        "X_train = modelar2[train_cols]\r\n",
        "y_train = modelar2['unidades_vendidas']\r\n",
        "X_test = estimar2[train_cols]\r\n",
        "train_data = lgb.Dataset(X_train , label = y_train, categorical_feature=cat_feats, free_raw_data=False)\r\n",
        "test_data = lgb.Dataset(X_test, label = y_test, categorical_feature=cat_feats, free_raw_data=False)\r\n",
        "\r\n",
        "#Para mostrar una validación mientras entrena, no influye\r\n",
        "fake_valid_inds = np.random.choice(X_train.index.values, 200_000, replace = False)\r\n",
        "train_inds = np.setdiff1d(X_train.index.values, fake_valid_inds)\r\n",
        "train_data = lgb.Dataset(X_train.loc[train_inds] , label = y_train.loc[train_inds], \r\n",
        "                         categorical_feature=cat_feats, free_raw_data=False)\r\n",
        "fake_valid_data = lgb.Dataset(X_train.loc[fake_valid_inds], label = y_train.loc[fake_valid_inds],\r\n",
        "                              categorical_feature=cat_feats,\r\n",
        "                 free_raw_data=False)# This is a random sample, we're not gonna apply any time series train-test-split tricks here!"
      ],
      "execution_count": 28,
      "outputs": []
    },
    {
      "cell_type": "code",
      "metadata": {
        "id": "EFfgzUfY9ie1",
        "colab": {
          "base_uri": "https://localhost:8080/"
        },
        "outputId": "69497ac0-268a-4c5b-f5a1-c472ae228cb7"
      },
      "source": [
        "%%time\r\n",
        "!date\r\n",
        "#Training\r\n",
        "m_lgb = lgb.train(params, train_data, valid_sets = [fake_valid_data], verbose_eval=10) \r\n",
        "#Predcit\r\n",
        "y_pred_lgbm_estimar = m_lgb.predict(X_test)\r\n",
        "!date"
      ],
      "execution_count": 29,
      "outputs": [
        {
          "output_type": "stream",
          "text": [
            "Wed Mar 17 16:17:53 UTC 2021\n"
          ],
          "name": "stdout"
        },
        {
          "output_type": "stream",
          "text": [
            "/usr/local/lib/python3.7/dist-packages/lightgbm/engine.py:118: UserWarning: Found `num_iterations` in params. Will use it instead of argument\n",
            "  warnings.warn(\"Found `{}` in params. Will use it instead of argument\".format(alias))\n",
            "/usr/local/lib/python3.7/dist-packages/lightgbm/basic.py:1205: UserWarning: Using categorical_feature in Dataset.\n",
            "  warnings.warn('Using categorical_feature in Dataset.')\n",
            "/usr/local/lib/python3.7/dist-packages/lightgbm/basic.py:762: UserWarning: categorical_feature in param dict is overridden.\n",
            "  warnings.warn('categorical_feature in param dict is overridden.')\n"
          ],
          "name": "stderr"
        },
        {
          "output_type": "stream",
          "text": [
            "[10]\tvalid_0's rmse: 6.42194\n",
            "[20]\tvalid_0's rmse: 6.35725\n",
            "[30]\tvalid_0's rmse: 6.2747\n",
            "[40]\tvalid_0's rmse: 6.19535\n",
            "[50]\tvalid_0's rmse: 6.10719\n",
            "[60]\tvalid_0's rmse: 6.01095\n",
            "[70]\tvalid_0's rmse: 5.90132\n",
            "[80]\tvalid_0's rmse: 5.81125\n",
            "[90]\tvalid_0's rmse: 5.73787\n",
            "[100]\tvalid_0's rmse: 5.65813\n",
            "[110]\tvalid_0's rmse: 5.60919\n",
            "[120]\tvalid_0's rmse: 5.55494\n",
            "[130]\tvalid_0's rmse: 5.51052\n",
            "[140]\tvalid_0's rmse: 5.47845\n",
            "[150]\tvalid_0's rmse: 5.45947\n",
            "[160]\tvalid_0's rmse: 5.43953\n",
            "[170]\tvalid_0's rmse: 5.42626\n",
            "[180]\tvalid_0's rmse: 5.41331\n",
            "[190]\tvalid_0's rmse: 5.4076\n",
            "[200]\tvalid_0's rmse: 5.3924\n",
            "[210]\tvalid_0's rmse: 5.37593\n",
            "[220]\tvalid_0's rmse: 5.36394\n",
            "[230]\tvalid_0's rmse: 5.3447\n",
            "[240]\tvalid_0's rmse: 5.33074\n",
            "[250]\tvalid_0's rmse: 5.31921\n",
            "[260]\tvalid_0's rmse: 5.31086\n",
            "[270]\tvalid_0's rmse: 5.30884\n",
            "[280]\tvalid_0's rmse: 5.29824\n",
            "[290]\tvalid_0's rmse: 5.29759\n",
            "[300]\tvalid_0's rmse: 5.29507\n",
            "[310]\tvalid_0's rmse: 5.2907\n",
            "[320]\tvalid_0's rmse: 5.29305\n",
            "[330]\tvalid_0's rmse: 5.28394\n",
            "[340]\tvalid_0's rmse: 5.27539\n",
            "[350]\tvalid_0's rmse: 5.27142\n",
            "[360]\tvalid_0's rmse: 5.26908\n",
            "[370]\tvalid_0's rmse: 5.27181\n",
            "[380]\tvalid_0's rmse: 5.26599\n",
            "[390]\tvalid_0's rmse: 5.26346\n",
            "[400]\tvalid_0's rmse: 5.25571\n",
            "[410]\tvalid_0's rmse: 5.25506\n",
            "[420]\tvalid_0's rmse: 5.24746\n",
            "[430]\tvalid_0's rmse: 5.24416\n",
            "[440]\tvalid_0's rmse: 5.23992\n",
            "[450]\tvalid_0's rmse: 5.23564\n",
            "[460]\tvalid_0's rmse: 5.23147\n",
            "[470]\tvalid_0's rmse: 5.22911\n",
            "[480]\tvalid_0's rmse: 5.22941\n",
            "[490]\tvalid_0's rmse: 5.22312\n",
            "[500]\tvalid_0's rmse: 5.22238\n",
            "[510]\tvalid_0's rmse: 5.22004\n",
            "[520]\tvalid_0's rmse: 5.21885\n",
            "[530]\tvalid_0's rmse: 5.20651\n",
            "[540]\tvalid_0's rmse: 5.21208\n",
            "[550]\tvalid_0's rmse: 5.21129\n",
            "[560]\tvalid_0's rmse: 5.21559\n",
            "[570]\tvalid_0's rmse: 5.2168\n",
            "[580]\tvalid_0's rmse: 5.21667\n",
            "[590]\tvalid_0's rmse: 5.21766\n",
            "[600]\tvalid_0's rmse: 5.22346\n",
            "[610]\tvalid_0's rmse: 5.22406\n",
            "[620]\tvalid_0's rmse: 5.2231\n",
            "[630]\tvalid_0's rmse: 5.22272\n",
            "[640]\tvalid_0's rmse: 5.23152\n",
            "[650]\tvalid_0's rmse: 5.23226\n",
            "[660]\tvalid_0's rmse: 5.22805\n",
            "[670]\tvalid_0's rmse: 5.22915\n",
            "[680]\tvalid_0's rmse: 5.22594\n",
            "[690]\tvalid_0's rmse: 5.22615\n",
            "[700]\tvalid_0's rmse: 5.22846\n",
            "[710]\tvalid_0's rmse: 5.22361\n",
            "[720]\tvalid_0's rmse: 5.22098\n",
            "[730]\tvalid_0's rmse: 5.22858\n",
            "[740]\tvalid_0's rmse: 5.22303\n",
            "[750]\tvalid_0's rmse: 5.22205\n",
            "[760]\tvalid_0's rmse: 5.2193\n",
            "[770]\tvalid_0's rmse: 5.22978\n",
            "[780]\tvalid_0's rmse: 5.23004\n",
            "[790]\tvalid_0's rmse: 5.22664\n",
            "[800]\tvalid_0's rmse: 5.22335\n",
            "Wed Mar 17 16:23:54 UTC 2021\n",
            "CPU times: user 11min 40s, sys: 2.22 s, total: 11min 43s\n",
            "Wall time: 6min 1s\n"
          ],
          "name": "stdout"
        }
      ]
    },
    {
      "cell_type": "code",
      "metadata": {
        "colab": {
          "base_uri": "https://localhost:8080/"
        },
        "id": "upGyL0-a9BZ1",
        "outputId": "ab106bf9-bebe-4c29-fd9a-ede73fdd67c3"
      },
      "source": [
        "y_pred_lgbm_estimar2 = np.round(abs(y_pred_lgbm_estimar), 0).astype('int')\r\n",
        "y_pred_lgbm_estimar2 = 3*y_pred_lgbm_estimar2 #Se multiplica por 3 porque en FE se dividía por 3 en el dataset original\r\n",
        "len(y_pred_lgbm_estimar2)"
      ],
      "execution_count": 30,
      "outputs": [
        {
          "output_type": "execute_result",
          "data": {
            "text/plain": [
              "212841"
            ]
          },
          "metadata": {
            "tags": []
          },
          "execution_count": 30
        }
      ]
    },
    {
      "cell_type": "code",
      "metadata": {
        "colab": {
          "base_uri": "https://localhost:8080/"
        },
        "id": "uA3hN8X79GAv",
        "outputId": "57f2bc50-ba25-479d-82a3-22c13eb91f56"
      },
      "source": [
        "y_pred_lgbm_estimar2"
      ],
      "execution_count": 31,
      "outputs": [
        {
          "output_type": "execute_result",
          "data": {
            "text/plain": [
              "array([ 6, 12,  6, ..., 15, 18, 24])"
            ]
          },
          "metadata": {
            "tags": []
          },
          "execution_count": 31
        }
      ]
    },
    {
      "cell_type": "code",
      "metadata": {
        "colab": {
          "base_uri": "https://localhost:8080/",
          "height": 317
        },
        "id": "ItdgXa388kNX",
        "outputId": "5c47742f-6718-4a7a-fcc3-2256b9254411"
      },
      "source": [
        "plt.figure(figsize=(20,5))\r\n",
        "plt.plot(y_pred_lgbm_estimar2, label='predicción')\r\n",
        "plt.legend()\r\n",
        "plt.show()"
      ],
      "execution_count": 32,
      "outputs": [
        {
          "output_type": "display_data",
          "data": {
            "image/png": "[encoded data removed]",
            "text/plain": [
              "<Figure size 1440x360 with 1 Axes>"
            ]
          },
          "metadata": {
            "tags": [],
            "needs_background": "light"
          }
        }
      ]
    },
    {
      "cell_type": "code",
      "metadata": {
        "colab": {
          "base_uri": "https://localhost:8080/",
          "height": 912
        },
        "id": "dRHHuweS9knP",
        "outputId": "95979250-2938-4805-8670-7b671ca42ea6"
      },
      "source": [
        "lgb.plot_importance(m_lgb, figsize=(15,15))"
      ],
      "execution_count": 33,
      "outputs": [
        {
          "output_type": "execute_result",
          "data": {
            "text/plain": [
              "<matplotlib.axes._subplots.AxesSubplot at 0x7ff20f9f6d50>"
            ]
          },
          "metadata": {
            "tags": []
          },
          "execution_count": 33
        },
        {
          "output_type": "display_data",
          "data": {
            "image/png": "[encoded data removed]",
            "text/plain": [
              "<Figure size 1080x1080 with 1 Axes>"
            ]
          },
          "metadata": {
            "tags": [],
            "needs_background": "light"
          }
        }
      ]
    },
    {
      "cell_type": "markdown",
      "metadata": {
        "id": "BmduByWP9Lt2"
      },
      "source": [
        "#Obtener dataset de salida"
      ]
    },
    {
      "cell_type": "code",
      "metadata": {
        "colab": {
          "base_uri": "https://localhost:8080/",
          "height": 646
        },
        "id": "tuX0aJ2l9vl9",
        "outputId": "a1e37512-3155-430e-bfd2-8071af2c2ac4"
      },
      "source": [
        "pred_lgbm = estimar2[['fecha','id']]\r\n",
        "pred_lgbm['unidades_vendidas'] = y_pred_lgbm_estimar2\r\n",
        "pred_lgbm['fecha'] = pred_lgbm['fecha'].dt.strftime('%d/%m/%Y')\r\n",
        "pred_lgbm"
      ],
      "execution_count": 34,
      "outputs": [
        {
          "output_type": "stream",
          "text": [
            "/usr/local/lib/python3.7/dist-packages/ipykernel_launcher.py:2: SettingWithCopyWarning: \n",
            "A value is trying to be set on a copy of a slice from a DataFrame.\n",
            "Try using .loc[row_indexer,col_indexer] = value instead\n",
            "\n",
            "See the caveats in the documentation: https://pandas.pydata.org/pandas-docs/stable/user_guide/indexing.html#returning-a-view-versus-a-copy\n",
            "  \n",
            "/usr/local/lib/python3.7/dist-packages/ipykernel_launcher.py:3: SettingWithCopyWarning: \n",
            "A value is trying to be set on a copy of a slice from a DataFrame.\n",
            "Try using .loc[row_indexer,col_indexer] = value instead\n",
            "\n",
            "See the caveats in the documentation: https://pandas.pydata.org/pandas-docs/stable/user_guide/indexing.html#returning-a-view-versus-a-copy\n",
            "  This is separate from the ipykernel package so we can avoid doing imports until\n"
          ],
          "name": "stderr"
        },
        {
          "output_type": "execute_result",
          "data": {
            "text/html": [
              "<div>\n",
              "<style scoped>\n",
              "    .dataframe tbody tr th:only-of-type {\n",
              "        vertical-align: middle;\n",
              "    }\n",
              "\n",
              "    .dataframe tbody tr th {\n",
              "        vertical-align: top;\n",
              "    }\n",
              "\n",
              "    .dataframe thead th {\n",
              "        text-align: right;\n",
              "    }\n",
              "</style>\n",
              "<table border=\"1\" class=\"dataframe\">\n",
              "  <thead>\n",
              "    <tr style=\"text-align: right;\">\n",
              "      <th></th>\n",
              "      <th>fecha</th>\n",
              "      <th>id</th>\n",
              "      <th>unidades_vendidas</th>\n",
              "    </tr>\n",
              "  </thead>\n",
              "  <tbody>\n",
              "    <tr>\n",
              "      <th>0</th>\n",
              "      <td>01/10/2016</td>\n",
              "      <td>21972</td>\n",
              "      <td>6</td>\n",
              "    </tr>\n",
              "    <tr>\n",
              "      <th>1</th>\n",
              "      <td>02/10/2016</td>\n",
              "      <td>21972</td>\n",
              "      <td>12</td>\n",
              "    </tr>\n",
              "    <tr>\n",
              "      <th>2</th>\n",
              "      <td>03/10/2016</td>\n",
              "      <td>21972</td>\n",
              "      <td>6</td>\n",
              "    </tr>\n",
              "    <tr>\n",
              "      <th>3</th>\n",
              "      <td>04/10/2016</td>\n",
              "      <td>21972</td>\n",
              "      <td>3</td>\n",
              "    </tr>\n",
              "    <tr>\n",
              "      <th>4</th>\n",
              "      <td>05/10/2016</td>\n",
              "      <td>21972</td>\n",
              "      <td>0</td>\n",
              "    </tr>\n",
              "    <tr>\n",
              "      <th>...</th>\n",
              "      <td>...</td>\n",
              "      <td>...</td>\n",
              "      <td>...</td>\n",
              "    </tr>\n",
              "    <tr>\n",
              "      <th>212836</th>\n",
              "      <td>26/12/2016</td>\n",
              "      <td>458660</td>\n",
              "      <td>21</td>\n",
              "    </tr>\n",
              "    <tr>\n",
              "      <th>212837</th>\n",
              "      <td>27/12/2016</td>\n",
              "      <td>458660</td>\n",
              "      <td>18</td>\n",
              "    </tr>\n",
              "    <tr>\n",
              "      <th>212838</th>\n",
              "      <td>28/12/2016</td>\n",
              "      <td>458660</td>\n",
              "      <td>15</td>\n",
              "    </tr>\n",
              "    <tr>\n",
              "      <th>212839</th>\n",
              "      <td>29/12/2016</td>\n",
              "      <td>458660</td>\n",
              "      <td>18</td>\n",
              "    </tr>\n",
              "    <tr>\n",
              "      <th>212840</th>\n",
              "      <td>30/12/2016</td>\n",
              "      <td>458660</td>\n",
              "      <td>24</td>\n",
              "    </tr>\n",
              "  </tbody>\n",
              "</table>\n",
              "<p>212841 rows × 3 columns</p>\n",
              "</div>"
            ],
            "text/plain": [
              "             fecha      id  unidades_vendidas\n",
              "0       01/10/2016   21972                  6\n",
              "1       02/10/2016   21972                 12\n",
              "2       03/10/2016   21972                  6\n",
              "3       04/10/2016   21972                  3\n",
              "4       05/10/2016   21972                  0\n",
              "...            ...     ...                ...\n",
              "212836  26/12/2016  458660                 21\n",
              "212837  27/12/2016  458660                 18\n",
              "212838  28/12/2016  458660                 15\n",
              "212839  29/12/2016  458660                 18\n",
              "212840  30/12/2016  458660                 24\n",
              "\n",
              "[212841 rows x 3 columns]"
            ]
          },
          "metadata": {
            "tags": []
          },
          "execution_count": 34
        }
      ]
    },
    {
      "cell_type": "code",
      "metadata": {
        "colab": {
          "base_uri": "https://localhost:8080/"
        },
        "id": "6ZeNLwG5JoIb",
        "outputId": "ef0999e0-df01-492a-8a95-76ace36b3bad"
      },
      "source": [
        "pred_lgbm.rename(columns = {'fecha': 'FECHA', 'id':'ID', 'unidades_vendidas':'UNIDADES'}, inplace = True)\r\n",
        "pred_lgbm.to_csv('Los Forecasters.txt', sep='|', index=False, encoding='utf-8')\r\n",
        "!ls -la | grep txt\r\n",
        "!cp 'Los Forecasters.txt' '/gdrive/My Drive/Datathon Cajamar 2021/Data/Los Forecasters.txt' "
      ],
      "execution_count": 35,
      "outputs": [
        {
          "output_type": "stream",
          "text": [
            "/usr/local/lib/python3.7/dist-packages/pandas/core/frame.py:4308: SettingWithCopyWarning: \n",
            "A value is trying to be set on a copy of a slice from a DataFrame\n",
            "\n",
            "See the caveats in the documentation: https://pandas.pydata.org/pandas-docs/stable/user_guide/indexing.html#returning-a-view-versus-a-copy\n",
            "  errors=errors,\n"
          ],
          "name": "stderr"
        },
        {
          "output_type": "stream",
          "text": [
            "-rw-r--r-- 1 root root   4322634 Mar 17 16:24 Los Forecasters.txt\n"
          ],
          "name": "stdout"
        }
      ]
    },
    {
      "cell_type": "markdown",
      "metadata": {
        "id": "yyHEsqgGALJK"
      },
      "source": [
        "#FIN"
      ]
    }
  ]
}